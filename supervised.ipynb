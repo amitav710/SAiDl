{
  "nbformat": 4,
  "nbformat_minor": 0,
  "metadata": {
    "colab": {
      "name": "supervised.ipynb",
      "provenance": [],
      "collapsed_sections": [],
      "authorship_tag": "ABX9TyPujyfENLbjjJKt4cNdGbqa",
      "include_colab_link": true
    },
    "kernelspec": {
      "name": "python3",
      "display_name": "Python 3"
    },
    "language_info": {
      "name": "python"
    },
    "accelerator": "GPU"
  },
  "cells": [
    {
      "cell_type": "markdown",
      "metadata": {
        "id": "view-in-github",
        "colab_type": "text"
      },
      "source": [
        "<a href=\"https://colab.research.google.com/github/amitav710/SAiDl/blob/main/supervised.ipynb\" target=\"_parent\"><img src=\"https://colab.research.google.com/assets/colab-badge.svg\" alt=\"Open In Colab\"/></a>"
      ]
    },
    {
      "cell_type": "markdown",
      "metadata": {
        "id": "z4z2uvPlx3Mo"
      },
      "source": [
        "# Supervised Learning"
      ]
    },
    {
      "cell_type": "markdown",
      "metadata": {
        "id": "w7LNp5qnyBem"
      },
      "source": [
        "Importing the Libraries"
      ]
    },
    {
      "cell_type": "code",
      "metadata": {
        "id": "OfZlciqVxbmK"
      },
      "source": [
        "import matplotlib.pyplot as plt\n",
        "import numpy as np\n",
        "import tensorflow as tf\n",
        "import pandas as pd\n",
        "import os\n",
        "import argparse\n",
        "\n",
        "from keras.preprocessing.image import ImageDataGenerator\n",
        "from keras.callbacks import EarlyStopping, ModelCheckpoint, LearningRateScheduler\n",
        "from tensorflow.keras import regularizers\n",
        "\n",
        "import tensorflow_datasets as tfds\n",
        "from tensorflow.keras.utils import plot_model\n",
        "import math\n",
        "from tensorflow.keras import layers\n",
        "from tensorflow.keras.layers import (\n",
        " Conv2D,\n",
        " BatchNormalization,\n",
        " Dense,\n",
        " MaxPool2D,\n",
        " Flatten,\n",
        " Dropout,\n",
        " Add,\n",
        " ReLU\n",
        ")"
      ],
      "execution_count": 86,
      "outputs": []
    },
    {
      "cell_type": "markdown",
      "metadata": {
        "id": "BYKbCDKLyXMZ"
      },
      "source": [
        "Loading and formatting datasets"
      ]
    },
    {
      "cell_type": "code",
      "metadata": {
        "colab": {
          "base_uri": "https://localhost:8080/",
          "height": 206
        },
        "id": "lpmEIdTLTH4Y",
        "outputId": "556c925f-6cfd-4de9-ff33-08ad3adb63c2"
      },
      "source": [
        "ds_train, info_train = tfds.load('stl10', split='train', with_info=True, shuffle_files=True, as_supervised=True)\n",
        "df_train = tfds.as_dataframe(ds_train.take(5), info_train)\n",
        "df_train.head()"
      ],
      "execution_count": 39,
      "outputs": [
        {
          "output_type": "execute_result",
          "data": {
            "text/html": [
              "<div>\n",
              "<style scoped>\n",
              "    .dataframe tbody tr th:only-of-type {\n",
              "        vertical-align: middle;\n",
              "    }\n",
              "\n",
              "    .dataframe tbody tr th {\n",
              "        vertical-align: top;\n",
              "    }\n",
              "\n",
              "    .dataframe thead th {\n",
              "        text-align: right;\n",
              "    }\n",
              "</style>\n",
              "<table border=\"1\" class=\"dataframe\">\n",
              "  <thead>\n",
              "    <tr style=\"text-align: right;\">\n",
              "      <th></th>\n",
              "      <th>image</th>\n",
              "      <th>label</th>\n",
              "    </tr>\n",
              "  </thead>\n",
              "  <tbody>\n",
              "    <tr>\n",
              "      <th>0</th>\n",
              "      <td>[[[136, 144, 153], [125, 127, 136], [125, 126,...</td>\n",
              "      <td>1</td>\n",
              "    </tr>\n",
              "    <tr>\n",
              "      <th>1</th>\n",
              "      <td>[[[70, 132, 186], [81, 139, 189], [143, 176, 2...</td>\n",
              "      <td>0</td>\n",
              "    </tr>\n",
              "    <tr>\n",
              "      <th>2</th>\n",
              "      <td>[[[0, 0, 0], [0, 0, 0], [0, 0, 0], [0, 0, 0], ...</td>\n",
              "      <td>8</td>\n",
              "    </tr>\n",
              "    <tr>\n",
              "      <th>3</th>\n",
              "      <td>[[[104, 90, 69], [101, 87, 66], [103, 88, 67],...</td>\n",
              "      <td>3</td>\n",
              "    </tr>\n",
              "    <tr>\n",
              "      <th>4</th>\n",
              "      <td>[[[189, 204, 235], [189, 204, 235], [189, 204,...</td>\n",
              "      <td>9</td>\n",
              "    </tr>\n",
              "  </tbody>\n",
              "</table>\n",
              "</div>"
            ],
            "text/plain": [
              "                                               image  label\n",
              "0  [[[136, 144, 153], [125, 127, 136], [125, 126,...      1\n",
              "1  [[[70, 132, 186], [81, 139, 189], [143, 176, 2...      0\n",
              "2  [[[0, 0, 0], [0, 0, 0], [0, 0, 0], [0, 0, 0], ...      8\n",
              "3  [[[104, 90, 69], [101, 87, 66], [103, 88, 67],...      3\n",
              "4  [[[189, 204, 235], [189, 204, 235], [189, 204,...      9"
            ]
          },
          "metadata": {},
          "execution_count": 39
        }
      ]
    },
    {
      "cell_type": "code",
      "metadata": {
        "colab": {
          "base_uri": "https://localhost:8080/",
          "height": 206
        },
        "id": "mQ_tXJzD95W7",
        "outputId": "7787481a-1a87-4685-dae4-2eabbfe35991"
      },
      "source": [
        "ds_test, info_test = tfds.load('stl10', split='test', with_info=True, shuffle_files=True, as_supervised=True)\n",
        "df_test = tfds.as_dataframe(ds_test.take(5), info_test)\n",
        "df_test.head()"
      ],
      "execution_count": 40,
      "outputs": [
        {
          "output_type": "execute_result",
          "data": {
            "text/html": [
              "<div>\n",
              "<style scoped>\n",
              "    .dataframe tbody tr th:only-of-type {\n",
              "        vertical-align: middle;\n",
              "    }\n",
              "\n",
              "    .dataframe tbody tr th {\n",
              "        vertical-align: top;\n",
              "    }\n",
              "\n",
              "    .dataframe thead th {\n",
              "        text-align: right;\n",
              "    }\n",
              "</style>\n",
              "<table border=\"1\" class=\"dataframe\">\n",
              "  <thead>\n",
              "    <tr style=\"text-align: right;\">\n",
              "      <th></th>\n",
              "      <th>image</th>\n",
              "      <th>label</th>\n",
              "    </tr>\n",
              "  </thead>\n",
              "  <tbody>\n",
              "    <tr>\n",
              "      <th>0</th>\n",
              "      <td>[[[213, 214, 220], [219, 219, 225], [220, 221,...</td>\n",
              "      <td>9</td>\n",
              "    </tr>\n",
              "    <tr>\n",
              "      <th>1</th>\n",
              "      <td>[[[31, 36, 32], [37, 42, 42], [60, 63, 60], [5...</td>\n",
              "      <td>3</td>\n",
              "    </tr>\n",
              "    <tr>\n",
              "      <th>2</th>\n",
              "      <td>[[[87, 87, 74], [84, 86, 76], [80, 82, 75], [8...</td>\n",
              "      <td>3</td>\n",
              "    </tr>\n",
              "    <tr>\n",
              "      <th>3</th>\n",
              "      <td>[[[37, 76, 22], [40, 79, 22], [43, 76, 25], [4...</td>\n",
              "      <td>1</td>\n",
              "    </tr>\n",
              "    <tr>\n",
              "      <th>4</th>\n",
              "      <td>[[[0, 0, 0], [0, 0, 0], [0, 0, 0], [0, 0, 0], ...</td>\n",
              "      <td>9</td>\n",
              "    </tr>\n",
              "  </tbody>\n",
              "</table>\n",
              "</div>"
            ],
            "text/plain": [
              "                                               image  label\n",
              "0  [[[213, 214, 220], [219, 219, 225], [220, 221,...      9\n",
              "1  [[[31, 36, 32], [37, 42, 42], [60, 63, 60], [5...      3\n",
              "2  [[[87, 87, 74], [84, 86, 76], [80, 82, 75], [8...      3\n",
              "3  [[[37, 76, 22], [40, 79, 22], [43, 76, 25], [4...      1\n",
              "4  [[[0, 0, 0], [0, 0, 0], [0, 0, 0], [0, 0, 0], ...      9"
            ]
          },
          "metadata": {},
          "execution_count": 40
        }
      ]
    },
    {
      "cell_type": "code",
      "metadata": {
        "colab": {
          "base_uri": "https://localhost:8080/"
        },
        "id": "IPfqZ3GrABsl",
        "outputId": "82095895-45b7-4598-b9bc-0ad05a46cf37"
      },
      "source": [
        "x_train=[]\n",
        "y_train=[]\n",
        "for data in ds_train:\n",
        "  x,y = data\n",
        "  x=x.numpy()\n",
        "  y=y.numpy()\n",
        "  x_train.append(x)\n",
        "  y_train.append(y)\n",
        "x_train = np.array(x_train)\n",
        "y_train = np.array(y_train)\n",
        "x_train.shape"
      ],
      "execution_count": 87,
      "outputs": [
        {
          "output_type": "execute_result",
          "data": {
            "text/plain": [
              "(5000, 96, 96, 3)"
            ]
          },
          "metadata": {},
          "execution_count": 87
        }
      ]
    },
    {
      "cell_type": "code",
      "metadata": {
        "colab": {
          "base_uri": "https://localhost:8080/"
        },
        "id": "V6R2oyKjAjz2",
        "outputId": "43286475-a786-463c-abdc-f9752afc72dc"
      },
      "source": [
        "y_train = pd.get_dummies(y_train)\n",
        "y_train.shape"
      ],
      "execution_count": 88,
      "outputs": [
        {
          "output_type": "execute_result",
          "data": {
            "text/plain": [
              "(5000, 10)"
            ]
          },
          "metadata": {},
          "execution_count": 88
        }
      ]
    },
    {
      "cell_type": "code",
      "metadata": {
        "id": "qnHEcwutAleB"
      },
      "source": [
        "x_test=[]\n",
        "y_test=[]\n",
        "\n",
        "for data in ds_test:\n",
        "  x,y = data\n",
        "  x=x.numpy()\n",
        "  y=y.numpy()\n",
        "  x_test.append(x)\n",
        "  y_test.append(y)\n",
        "\n",
        "x_test = np.array(x_test)\n",
        "y_test = np.array(y_test)\n",
        "\n",
        "y_test = pd.get_dummies(y_test)"
      ],
      "execution_count": 89,
      "outputs": []
    },
    {
      "cell_type": "code",
      "metadata": {
        "colab": {
          "base_uri": "https://localhost:8080/"
        },
        "id": "inw-vTUkAxoy",
        "outputId": "c6981e6d-237e-4bd8-d002-c23c84bef804"
      },
      "source": [
        "x_test.shape"
      ],
      "execution_count": 90,
      "outputs": [
        {
          "output_type": "execute_result",
          "data": {
            "text/plain": [
              "(8000, 96, 96, 3)"
            ]
          },
          "metadata": {},
          "execution_count": 90
        }
      ]
    },
    {
      "cell_type": "code",
      "metadata": {
        "colab": {
          "base_uri": "https://localhost:8080/"
        },
        "id": "fAGaeVbkA1Bn",
        "outputId": "be7327ed-c412-47ce-fa7c-f90ecda7fe20"
      },
      "source": [
        "y_test.shape"
      ],
      "execution_count": 91,
      "outputs": [
        {
          "output_type": "execute_result",
          "data": {
            "text/plain": [
              "(8000, 10)"
            ]
          },
          "metadata": {},
          "execution_count": 91
        }
      ]
    },
    {
      "cell_type": "markdown",
      "metadata": {
        "id": "P8yVlTkCzjSg"
      },
      "source": [
        "Image augmentation"
      ]
    },
    {
      "cell_type": "code",
      "metadata": {
        "id": "QTdhX_nd3qR5"
      },
      "source": [
        "train_datagen = ImageDataGenerator(\n",
        "    rescale = 1./255,\n",
        "    rotation_range=15,\n",
        "    width_shift_range=0.15,\n",
        "    height_shift_range=0.15,\n",
        "    shear_range = 0.2,\n",
        "    zoom_range = 0.2,\n",
        "    horizontal_flip = True\n",
        ")"
      ],
      "execution_count": 92,
      "outputs": []
    },
    {
      "cell_type": "code",
      "metadata": {
        "id": "iHpsWQwcBIOh"
      },
      "source": [
        "training_set = train_datagen.flow(\n",
        "    x_train,\n",
        "    y_train,\n",
        "    batch_size=32\n",
        ")"
      ],
      "execution_count": 93,
      "outputs": []
    },
    {
      "cell_type": "code",
      "metadata": {
        "id": "_W686XC-LwS3"
      },
      "source": [
        "test_datagen=ImageDataGenerator(rescale=1./255)\n",
        "test_set=test_datagen.flow(\n",
        "    x_test,\n",
        "    y_test,\n",
        "    batch_size=32\n",
        ")"
      ],
      "execution_count": 94,
      "outputs": []
    },
    {
      "cell_type": "markdown",
      "metadata": {
        "id": "goLBgkFnzsn-"
      },
      "source": [
        "Making the CNN"
      ]
    },
    {
      "cell_type": "code",
      "metadata": {
        "id": "clGH7Y7Q5pzr",
        "colab": {
          "base_uri": "https://localhost:8080/",
          "height": 1000
        },
        "outputId": "27d05ffd-935d-4ccc-8bec-79382f1bb3c2"
      },
      "source": [
        "shape=(96,96,3)\n",
        "input=layers.Input(shape)\n",
        "\n",
        "x = (Conv2D(96, (3, 3), strides=1,padding=\"same\"))(input)\n",
        "x = (BatchNormalization(epsilon=1e-5, momentum=0.01))(x)\n",
        "x = (ReLU())(x)\n",
        "x = (MaxPool2D((2, 2), strides=2))(x)\n",
        "\n",
        "x = (Conv2D(96, (3, 3), strides=1,padding=\"same\"))(input)\n",
        "x = (BatchNormalization(epsilon=1e-5, momentum=0.01))(x)\n",
        "x = (ReLU())(x)\n",
        "x = (MaxPool2D((2, 2), strides=2))(x)\n",
        "\n",
        "x = (Conv2D(64, (3, 3), strides=1, activation=\"relu\",bias_regularizer=regularizers.l1(0.00005),padding=\"same\"))(x)\n",
        "x=(Dropout(0.2))(x)\n",
        "x = (BatchNormalization(epsilon=1e-5, momentum=0.01))(x)\n",
        "x = (ReLU())(x)\n",
        "x = (MaxPool2D((2, 2), strides=2))(x)\n",
        "\n",
        "#residual layer\n",
        "x_copy1=x\n",
        "x = (Conv2D(64, (3, 3), strides=1, activation=\"relu\",bias_regularizer=regularizers.l1(0.00005),padding=\"same\"))(x)\n",
        "x = (BatchNormalization(epsilon=1e-5, momentum=0.01))(x)\n",
        "x = (ReLU())(x)\n",
        "x_copy2=x\n",
        "x = Add()([x_copy1,x_copy2])\n",
        "x = (BatchNormalization(epsilon=1e-5, momentum=0.01))(x)\n",
        "x = (ReLU())(x)\n",
        "x = (MaxPool2D((2, 2), strides=2))(x)\n",
        "\n",
        "x = (Conv2D(96, (3, 3), strides=1,padding=\"same\"))(input)\n",
        "x = (BatchNormalization(epsilon=1e-5, momentum=0.01))(x)\n",
        "x = (ReLU())(x)\n",
        "x = (MaxPool2D((2, 2), strides=2))(x)\n",
        "\n",
        "x = (Conv2D(96, (3, 3), strides=1,padding=\"same\"))(input)\n",
        "x = (BatchNormalization(epsilon=1e-5, momentum=0.01))(x)\n",
        "x = (ReLU())(x)\n",
        "x = (MaxPool2D((2, 2), strides=2))(x)\n",
        "\n",
        "x = (Conv2D(64, (3, 3), strides=1, activation=\"relu\",bias_regularizer=regularizers.l1(0.00005),padding=\"same\"))(x)\n",
        "x = (Dropout(0.2))(x)\n",
        "x = (BatchNormalization(epsilon=1e-5, momentum=0.01))(x)\n",
        "x = (ReLU())(x)\n",
        "x = (MaxPool2D((2, 2), strides=2))(x)\n",
        "\n",
        "#residual layer\n",
        "x_copy3=x\n",
        "x = (Conv2D(64, (3, 3), strides=1, activation=\"relu\",bias_regularizer=regularizers.l1(0.00005),padding=\"same\"))(x)\n",
        "x = (BatchNormalization(epsilon=1e-5, momentum=0.01))(x)\n",
        "x = (ReLU())(x)\n",
        "x_copy4=x\n",
        "x = Add()([x_copy3,x_copy4])\n",
        "x = (BatchNormalization(epsilon=1e-5, momentum=0.01))(x)\n",
        "x = (ReLU())(x)\n",
        "x = (MaxPool2D((2, 2), strides=2))(x)\n",
        "\n",
        "x = (Conv2D(64, (3, 3), strides=1, activation=\"relu\",bias_regularizer=regularizers.l1(0.00005),padding=\"same\"))(x)\n",
        "x = (Dropout(0.2))(x)\n",
        "x = (BatchNormalization(epsilon=1e-5, momentum=0.01))(x)\n",
        "x = (ReLU())(x)\n",
        "x = (MaxPool2D((2, 2), strides=2))(x)\n",
        "x = (Flatten())(x)\n",
        "x = (Dense(128, activation = 'relu'))(x)\n",
        "output = (Dense(units=10,activation = 'softmax'))(x)\n",
        "\n",
        "cnn = tf.keras.Model(inputs=input, outputs=output)\n",
        "plot_model(cnn)"
      ],
      "execution_count": 95,
      "outputs": [
        {
          "output_type": "execute_result",
          "data": {
            "image/png": "[encoded data removed]",
            "text/plain": [
              "<IPython.core.display.Image object>"
            ]
          },
          "metadata": {},
          "execution_count": 95
        }
      ]
    },
    {
      "cell_type": "code",
      "metadata": {
        "id": "AdlRhtc_SztI"
      },
      "source": [
        "stop = EarlyStopping(patience=30, monitor='val_loss', mode='min')"
      ],
      "execution_count": 101,
      "outputs": []
    },
    {
      "cell_type": "code",
      "metadata": {
        "id": "jRVbkme8W5YI"
      },
      "source": [
        "\"\"\"initial_learning_rate = 0.01\n",
        "decay_steps = 10.0\n",
        "decay_rate = 0.75\n",
        "learning_rate_fn = tf.keras.optimizers.schedules.InverseTimeDecay(\n",
        "  initial_learning_rate, \n",
        "  decay_steps, \n",
        "  decay_rate,\n",
        "  staircase=True\n",
        ")\"\"\""
      ],
      "execution_count": null,
      "outputs": []
    },
    {
      "cell_type": "markdown",
      "metadata": {
        "id": "EkbCnK2q3A4k"
      },
      "source": [
        "Training the CNN"
      ]
    },
    {
      "cell_type": "code",
      "metadata": {
        "id": "zpuW6Fij0H84"
      },
      "source": [
        "opt=tf.keras.optimizers.Adam(learning_rate=0.0002)"
      ],
      "execution_count": 102,
      "outputs": []
    },
    {
      "cell_type": "code",
      "metadata": {
        "id": "CkfiGiMCB9Aq"
      },
      "source": [
        "cnn.compile(optimizer=opt, loss='categorical_crossentropy', metrics=['accuracy'])"
      ],
      "execution_count": 103,
      "outputs": []
    },
    {
      "cell_type": "code",
      "metadata": {
        "id": "oAe9xbMZCWVA"
      },
      "source": [
        "model_checkpoint_callback = ModelCheckpoint('wts.hdf5', save_best_only=True, monitor='val_accuracy', mode='max')"
      ],
      "execution_count": 104,
      "outputs": []
    },
    {
      "cell_type": "code",
      "metadata": {
        "colab": {
          "base_uri": "https://localhost:8080/"
        },
        "id": "1eEJCWqK3VTd",
        "outputId": "d14e33c7-2aeb-40f1-c407-1bbb4c9f238b"
      },
      "source": [
        "cnn.summary()"
      ],
      "execution_count": 100,
      "outputs": [
        {
          "output_type": "stream",
          "text": [
            "Model: \"model_3\"\n",
            "__________________________________________________________________________________________________\n",
            "Layer (type)                    Output Shape         Param #     Connected to                     \n",
            "==================================================================================================\n",
            "input_4 (InputLayer)            [(None, 96, 96, 3)]  0                                            \n",
            "__________________________________________________________________________________________________\n",
            "conv2d_32 (Conv2D)              (None, 96, 96, 96)   2688        input_4[0][0]                    \n",
            "__________________________________________________________________________________________________\n",
            "batch_normalization_39 (BatchNo (None, 96, 96, 96)   384         conv2d_32[0][0]                  \n",
            "__________________________________________________________________________________________________\n",
            "re_lu_39 (ReLU)                 (None, 96, 96, 96)   0           batch_normalization_39[0][0]     \n",
            "__________________________________________________________________________________________________\n",
            "max_pooling2d_32 (MaxPooling2D) (None, 48, 48, 96)   0           re_lu_39[0][0]                   \n",
            "__________________________________________________________________________________________________\n",
            "conv2d_33 (Conv2D)              (None, 48, 48, 64)   55360       max_pooling2d_32[0][0]           \n",
            "__________________________________________________________________________________________________\n",
            "dropout_10 (Dropout)            (None, 48, 48, 64)   0           conv2d_33[0][0]                  \n",
            "__________________________________________________________________________________________________\n",
            "batch_normalization_40 (BatchNo (None, 48, 48, 64)   256         dropout_10[0][0]                 \n",
            "__________________________________________________________________________________________________\n",
            "re_lu_40 (ReLU)                 (None, 48, 48, 64)   0           batch_normalization_40[0][0]     \n",
            "__________________________________________________________________________________________________\n",
            "max_pooling2d_33 (MaxPooling2D) (None, 24, 24, 64)   0           re_lu_40[0][0]                   \n",
            "__________________________________________________________________________________________________\n",
            "conv2d_34 (Conv2D)              (None, 24, 24, 64)   36928       max_pooling2d_33[0][0]           \n",
            "__________________________________________________________________________________________________\n",
            "batch_normalization_41 (BatchNo (None, 24, 24, 64)   256         conv2d_34[0][0]                  \n",
            "__________________________________________________________________________________________________\n",
            "re_lu_41 (ReLU)                 (None, 24, 24, 64)   0           batch_normalization_41[0][0]     \n",
            "__________________________________________________________________________________________________\n",
            "add_7 (Add)                     (None, 24, 24, 64)   0           max_pooling2d_33[0][0]           \n",
            "                                                                 re_lu_41[0][0]                   \n",
            "__________________________________________________________________________________________________\n",
            "batch_normalization_42 (BatchNo (None, 24, 24, 64)   256         add_7[0][0]                      \n",
            "__________________________________________________________________________________________________\n",
            "re_lu_42 (ReLU)                 (None, 24, 24, 64)   0           batch_normalization_42[0][0]     \n",
            "__________________________________________________________________________________________________\n",
            "max_pooling2d_34 (MaxPooling2D) (None, 12, 12, 64)   0           re_lu_42[0][0]                   \n",
            "__________________________________________________________________________________________________\n",
            "conv2d_35 (Conv2D)              (None, 12, 12, 64)   36928       max_pooling2d_34[0][0]           \n",
            "__________________________________________________________________________________________________\n",
            "dropout_11 (Dropout)            (None, 12, 12, 64)   0           conv2d_35[0][0]                  \n",
            "__________________________________________________________________________________________________\n",
            "batch_normalization_43 (BatchNo (None, 12, 12, 64)   256         dropout_11[0][0]                 \n",
            "__________________________________________________________________________________________________\n",
            "re_lu_43 (ReLU)                 (None, 12, 12, 64)   0           batch_normalization_43[0][0]     \n",
            "__________________________________________________________________________________________________\n",
            "max_pooling2d_35 (MaxPooling2D) (None, 6, 6, 64)     0           re_lu_43[0][0]                   \n",
            "__________________________________________________________________________________________________\n",
            "flatten_3 (Flatten)             (None, 2304)         0           max_pooling2d_35[0][0]           \n",
            "__________________________________________________________________________________________________\n",
            "dense_6 (Dense)                 (None, 128)          295040      flatten_3[0][0]                  \n",
            "__________________________________________________________________________________________________\n",
            "dense_7 (Dense)                 (None, 10)           1290        dense_6[0][0]                    \n",
            "==================================================================================================\n",
            "Total params: 429,642\n",
            "Trainable params: 428,938\n",
            "Non-trainable params: 704\n",
            "__________________________________________________________________________________________________\n"
          ],
          "name": "stdout"
        }
      ]
    },
    {
      "cell_type": "code",
      "metadata": {
        "id": "5HUBctinDv1a",
        "colab": {
          "base_uri": "https://localhost:8080/"
        },
        "outputId": "7e83370a-dc1a-4e7e-ead2-5b3b4903deb2"
      },
      "source": [
        "history=cnn.fit(x=training_set, validation_data=test_set, epochs= 120, batch_size=32, callbacks=[stop, model_checkpoint_callback])"
      ],
      "execution_count": 105,
      "outputs": [
        {
          "output_type": "stream",
          "text": [
            "Epoch 1/120\n",
            "157/157 [==============================] - 17s 98ms/step - loss: 2.0635 - accuracy: 0.2788 - val_loss: 1.7197 - val_accuracy: 0.3697\n",
            "Epoch 2/120\n"
          ],
          "name": "stdout"
        },
        {
          "output_type": "stream",
          "text": [
            "/usr/local/lib/python3.7/dist-packages/keras/utils/generic_utils.py:497: CustomMaskWarning: Custom mask layers require a config and must override get_config. When loading, the custom mask layer must be passed to the custom_objects argument.\n",
            "  category=CustomMaskWarning)\n"
          ],
          "name": "stderr"
        },
        {
          "output_type": "stream",
          "text": [
            "157/157 [==============================] - 15s 98ms/step - loss: 1.6890 - accuracy: 0.3712 - val_loss: 1.5953 - val_accuracy: 0.4050\n",
            "Epoch 3/120\n",
            "157/157 [==============================] - 15s 96ms/step - loss: 1.5688 - accuracy: 0.4046 - val_loss: 1.4742 - val_accuracy: 0.4538\n",
            "Epoch 4/120\n",
            "157/157 [==============================] - 15s 96ms/step - loss: 1.4691 - accuracy: 0.4492 - val_loss: 1.3933 - val_accuracy: 0.4826\n",
            "Epoch 5/120\n",
            "157/157 [==============================] - 15s 95ms/step - loss: 1.4329 - accuracy: 0.4630 - val_loss: 1.3852 - val_accuracy: 0.4956\n",
            "Epoch 6/120\n",
            "157/157 [==============================] - 15s 97ms/step - loss: 1.3656 - accuracy: 0.5006 - val_loss: 1.3714 - val_accuracy: 0.4910\n",
            "Epoch 7/120\n",
            "157/157 [==============================] - 15s 97ms/step - loss: 1.3085 - accuracy: 0.5088 - val_loss: 1.2809 - val_accuracy: 0.5312\n",
            "Epoch 8/120\n",
            "157/157 [==============================] - 16s 100ms/step - loss: 1.2915 - accuracy: 0.5250 - val_loss: 1.2943 - val_accuracy: 0.5105\n",
            "Epoch 9/120\n",
            "157/157 [==============================] - 15s 97ms/step - loss: 1.2533 - accuracy: 0.5366 - val_loss: 1.2264 - val_accuracy: 0.5511\n",
            "Epoch 10/120\n",
            "157/157 [==============================] - 15s 97ms/step - loss: 1.2136 - accuracy: 0.5552 - val_loss: 1.2136 - val_accuracy: 0.5545\n",
            "Epoch 11/120\n",
            "157/157 [==============================] - 15s 97ms/step - loss: 1.1828 - accuracy: 0.5680 - val_loss: 1.2574 - val_accuracy: 0.5389\n",
            "Epoch 12/120\n",
            "157/157 [==============================] - 15s 98ms/step - loss: 1.1668 - accuracy: 0.5720 - val_loss: 1.1908 - val_accuracy: 0.5661\n",
            "Epoch 13/120\n",
            "157/157 [==============================] - 15s 97ms/step - loss: 1.1392 - accuracy: 0.5790 - val_loss: 1.1790 - val_accuracy: 0.5670\n",
            "Epoch 14/120\n",
            "157/157 [==============================] - 15s 98ms/step - loss: 1.0999 - accuracy: 0.5938 - val_loss: 1.1270 - val_accuracy: 0.5932\n",
            "Epoch 15/120\n",
            "157/157 [==============================] - 15s 98ms/step - loss: 1.0978 - accuracy: 0.5890 - val_loss: 1.2071 - val_accuracy: 0.5533\n",
            "Epoch 16/120\n",
            "157/157 [==============================] - 15s 97ms/step - loss: 1.0765 - accuracy: 0.6060 - val_loss: 1.1143 - val_accuracy: 0.5961\n",
            "Epoch 17/120\n",
            "157/157 [==============================] - 15s 98ms/step - loss: 1.0500 - accuracy: 0.6146 - val_loss: 1.1479 - val_accuracy: 0.5866\n",
            "Epoch 18/120\n",
            "157/157 [==============================] - 15s 97ms/step - loss: 1.0274 - accuracy: 0.6196 - val_loss: 1.0543 - val_accuracy: 0.6235\n",
            "Epoch 19/120\n",
            "157/157 [==============================] - 15s 97ms/step - loss: 0.9947 - accuracy: 0.6396 - val_loss: 1.0421 - val_accuracy: 0.6292\n",
            "Epoch 20/120\n",
            "157/157 [==============================] - 15s 97ms/step - loss: 1.0060 - accuracy: 0.6336 - val_loss: 1.0663 - val_accuracy: 0.6118\n",
            "Epoch 21/120\n",
            "157/157 [==============================] - 16s 99ms/step - loss: 0.9726 - accuracy: 0.6442 - val_loss: 1.0838 - val_accuracy: 0.6065\n",
            "Epoch 22/120\n",
            "157/157 [==============================] - 16s 103ms/step - loss: 0.9541 - accuracy: 0.6570 - val_loss: 1.0294 - val_accuracy: 0.6267\n",
            "Epoch 23/120\n",
            "157/157 [==============================] - 15s 98ms/step - loss: 0.9265 - accuracy: 0.6644 - val_loss: 1.0960 - val_accuracy: 0.5989\n",
            "Epoch 24/120\n",
            "157/157 [==============================] - 15s 97ms/step - loss: 0.9288 - accuracy: 0.6642 - val_loss: 1.1043 - val_accuracy: 0.6094\n",
            "Epoch 25/120\n",
            "157/157 [==============================] - 16s 99ms/step - loss: 0.9008 - accuracy: 0.6746 - val_loss: 1.0182 - val_accuracy: 0.6357\n",
            "Epoch 26/120\n",
            "157/157 [==============================] - 15s 99ms/step - loss: 0.8721 - accuracy: 0.6876 - val_loss: 0.9820 - val_accuracy: 0.6428\n",
            "Epoch 27/120\n",
            "157/157 [==============================] - 15s 98ms/step - loss: 0.8735 - accuracy: 0.6886 - val_loss: 0.9935 - val_accuracy: 0.6434\n",
            "Epoch 28/120\n",
            "157/157 [==============================] - 15s 97ms/step - loss: 0.8769 - accuracy: 0.6820 - val_loss: 1.0559 - val_accuracy: 0.6177\n",
            "Epoch 29/120\n",
            "157/157 [==============================] - 15s 97ms/step - loss: 0.8579 - accuracy: 0.6860 - val_loss: 1.0264 - val_accuracy: 0.6274\n",
            "Epoch 30/120\n",
            "157/157 [==============================] - 15s 97ms/step - loss: 0.8351 - accuracy: 0.7008 - val_loss: 1.0878 - val_accuracy: 0.6140\n",
            "Epoch 31/120\n",
            "157/157 [==============================] - 15s 97ms/step - loss: 0.8217 - accuracy: 0.7038 - val_loss: 1.0121 - val_accuracy: 0.6327\n",
            "Epoch 32/120\n",
            "157/157 [==============================] - 15s 98ms/step - loss: 0.8136 - accuracy: 0.6982 - val_loss: 0.9534 - val_accuracy: 0.6601\n",
            "Epoch 33/120\n",
            "157/157 [==============================] - 15s 98ms/step - loss: 0.8003 - accuracy: 0.7114 - val_loss: 0.9350 - val_accuracy: 0.6666\n",
            "Epoch 34/120\n",
            "157/157 [==============================] - 15s 97ms/step - loss: 0.7906 - accuracy: 0.7160 - val_loss: 1.0442 - val_accuracy: 0.6325\n",
            "Epoch 35/120\n",
            "157/157 [==============================] - 15s 97ms/step - loss: 0.7911 - accuracy: 0.7128 - val_loss: 1.0824 - val_accuracy: 0.6221\n",
            "Epoch 36/120\n",
            "157/157 [==============================] - 15s 96ms/step - loss: 0.7630 - accuracy: 0.7236 - val_loss: 0.9799 - val_accuracy: 0.6553\n",
            "Epoch 37/120\n",
            "157/157 [==============================] - 15s 97ms/step - loss: 0.7531 - accuracy: 0.7234 - val_loss: 0.9834 - val_accuracy: 0.6575\n",
            "Epoch 38/120\n",
            "157/157 [==============================] - 15s 97ms/step - loss: 0.7420 - accuracy: 0.7356 - val_loss: 1.0393 - val_accuracy: 0.6360\n",
            "Epoch 39/120\n",
            "157/157 [==============================] - 15s 97ms/step - loss: 0.7102 - accuracy: 0.7466 - val_loss: 1.0089 - val_accuracy: 0.6461\n",
            "Epoch 40/120\n",
            "157/157 [==============================] - 15s 97ms/step - loss: 0.7503 - accuracy: 0.7210 - val_loss: 1.0528 - val_accuracy: 0.6367\n",
            "Epoch 41/120\n",
            "157/157 [==============================] - 15s 98ms/step - loss: 0.7354 - accuracy: 0.7342 - val_loss: 0.9260 - val_accuracy: 0.6680\n",
            "Epoch 42/120\n",
            "157/157 [==============================] - 15s 98ms/step - loss: 0.6950 - accuracy: 0.7460 - val_loss: 0.9362 - val_accuracy: 0.6683\n",
            "Epoch 43/120\n",
            "157/157 [==============================] - 15s 97ms/step - loss: 0.7093 - accuracy: 0.7388 - val_loss: 0.8840 - val_accuracy: 0.6852\n",
            "Epoch 44/120\n",
            "157/157 [==============================] - 15s 98ms/step - loss: 0.7003 - accuracy: 0.7480 - val_loss: 0.9742 - val_accuracy: 0.6615\n",
            "Epoch 45/120\n",
            "157/157 [==============================] - 15s 97ms/step - loss: 0.6804 - accuracy: 0.7536 - val_loss: 1.0168 - val_accuracy: 0.6421\n",
            "Epoch 46/120\n",
            "157/157 [==============================] - 15s 96ms/step - loss: 0.6717 - accuracy: 0.7598 - val_loss: 0.9062 - val_accuracy: 0.6839\n",
            "Epoch 47/120\n",
            "157/157 [==============================] - 15s 97ms/step - loss: 0.6571 - accuracy: 0.7648 - val_loss: 0.9586 - val_accuracy: 0.6683\n",
            "Epoch 48/120\n",
            "157/157 [==============================] - 15s 97ms/step - loss: 0.6514 - accuracy: 0.7610 - val_loss: 0.9242 - val_accuracy: 0.6795\n",
            "Epoch 49/120\n",
            "157/157 [==============================] - 15s 97ms/step - loss: 0.6388 - accuracy: 0.7700 - val_loss: 0.9154 - val_accuracy: 0.6841\n",
            "Epoch 50/120\n",
            "157/157 [==============================] - 15s 98ms/step - loss: 0.6465 - accuracy: 0.7708 - val_loss: 0.9938 - val_accuracy: 0.6621\n",
            "Epoch 51/120\n",
            "157/157 [==============================] - 15s 97ms/step - loss: 0.6181 - accuracy: 0.7788 - val_loss: 0.9430 - val_accuracy: 0.6736\n",
            "Epoch 52/120\n",
            "157/157 [==============================] - 15s 96ms/step - loss: 0.6331 - accuracy: 0.7790 - val_loss: 0.9620 - val_accuracy: 0.6743\n",
            "Epoch 53/120\n",
            "157/157 [==============================] - 15s 98ms/step - loss: 0.6194 - accuracy: 0.7758 - val_loss: 0.8968 - val_accuracy: 0.6954\n",
            "Epoch 54/120\n",
            "157/157 [==============================] - 15s 97ms/step - loss: 0.6204 - accuracy: 0.7768 - val_loss: 0.8912 - val_accuracy: 0.6898\n",
            "Epoch 55/120\n",
            "157/157 [==============================] - 15s 97ms/step - loss: 0.6061 - accuracy: 0.7790 - val_loss: 0.9545 - val_accuracy: 0.6741\n",
            "Epoch 56/120\n",
            "157/157 [==============================] - 15s 97ms/step - loss: 0.6106 - accuracy: 0.7852 - val_loss: 0.9528 - val_accuracy: 0.6762\n",
            "Epoch 57/120\n",
            "157/157 [==============================] - 16s 99ms/step - loss: 0.5859 - accuracy: 0.7862 - val_loss: 1.0043 - val_accuracy: 0.6658\n",
            "Epoch 58/120\n",
            "157/157 [==============================] - 15s 98ms/step - loss: 0.5841 - accuracy: 0.7838 - val_loss: 0.9228 - val_accuracy: 0.6846\n",
            "Epoch 59/120\n",
            "157/157 [==============================] - 15s 97ms/step - loss: 0.5558 - accuracy: 0.7998 - val_loss: 0.9470 - val_accuracy: 0.6787\n",
            "Epoch 60/120\n",
            "157/157 [==============================] - 15s 97ms/step - loss: 0.5851 - accuracy: 0.7874 - val_loss: 0.8937 - val_accuracy: 0.6946\n",
            "Epoch 61/120\n",
            "157/157 [==============================] - 15s 98ms/step - loss: 0.5587 - accuracy: 0.8012 - val_loss: 0.9101 - val_accuracy: 0.6950\n",
            "Epoch 62/120\n",
            "157/157 [==============================] - 15s 98ms/step - loss: 0.5463 - accuracy: 0.8050 - val_loss: 0.9967 - val_accuracy: 0.6681\n",
            "Epoch 63/120\n",
            "157/157 [==============================] - 15s 97ms/step - loss: 0.5422 - accuracy: 0.8046 - val_loss: 0.8471 - val_accuracy: 0.7076\n",
            "Epoch 64/120\n",
            "157/157 [==============================] - 15s 98ms/step - loss: 0.5394 - accuracy: 0.8030 - val_loss: 0.8906 - val_accuracy: 0.6969\n",
            "Epoch 65/120\n",
            "157/157 [==============================] - 15s 97ms/step - loss: 0.5572 - accuracy: 0.7944 - val_loss: 1.0031 - val_accuracy: 0.6686\n",
            "Epoch 66/120\n",
            "157/157 [==============================] - 15s 98ms/step - loss: 0.5465 - accuracy: 0.8064 - val_loss: 0.9755 - val_accuracy: 0.6696\n",
            "Epoch 67/120\n",
            "157/157 [==============================] - 15s 98ms/step - loss: 0.5039 - accuracy: 0.8162 - val_loss: 1.0768 - val_accuracy: 0.6664\n",
            "Epoch 68/120\n",
            "157/157 [==============================] - 15s 98ms/step - loss: 0.5135 - accuracy: 0.8164 - val_loss: 1.0021 - val_accuracy: 0.6773\n",
            "Epoch 69/120\n",
            "157/157 [==============================] - 15s 97ms/step - loss: 0.5031 - accuracy: 0.8182 - val_loss: 0.9297 - val_accuracy: 0.6877\n",
            "Epoch 70/120\n",
            "157/157 [==============================] - 15s 97ms/step - loss: 0.5093 - accuracy: 0.8118 - val_loss: 1.0064 - val_accuracy: 0.6794\n",
            "Epoch 71/120\n",
            "157/157 [==============================] - 15s 98ms/step - loss: 0.5163 - accuracy: 0.8160 - val_loss: 0.9319 - val_accuracy: 0.6915\n",
            "Epoch 72/120\n",
            "157/157 [==============================] - 16s 99ms/step - loss: 0.4851 - accuracy: 0.8258 - val_loss: 0.9291 - val_accuracy: 0.6888\n",
            "Epoch 73/120\n",
            "157/157 [==============================] - 16s 100ms/step - loss: 0.5106 - accuracy: 0.8156 - val_loss: 0.9158 - val_accuracy: 0.6940\n",
            "Epoch 74/120\n",
            "157/157 [==============================] - 15s 97ms/step - loss: 0.4958 - accuracy: 0.8196 - val_loss: 0.8765 - val_accuracy: 0.7023\n",
            "Epoch 75/120\n",
            "157/157 [==============================] - 15s 97ms/step - loss: 0.4608 - accuracy: 0.8354 - val_loss: 0.9337 - val_accuracy: 0.6901\n",
            "Epoch 76/120\n",
            "157/157 [==============================] - 15s 98ms/step - loss: 0.4819 - accuracy: 0.8266 - val_loss: 1.0328 - val_accuracy: 0.6680\n",
            "Epoch 77/120\n",
            "157/157 [==============================] - 15s 98ms/step - loss: 0.4773 - accuracy: 0.8284 - val_loss: 0.9180 - val_accuracy: 0.6986\n",
            "Epoch 78/120\n",
            "157/157 [==============================] - 15s 98ms/step - loss: 0.4790 - accuracy: 0.8282 - val_loss: 0.9642 - val_accuracy: 0.6845\n",
            "Epoch 79/120\n",
            "157/157 [==============================] - 15s 98ms/step - loss: 0.4439 - accuracy: 0.8378 - val_loss: 1.0181 - val_accuracy: 0.6780\n",
            "Epoch 80/120\n",
            "157/157 [==============================] - 15s 98ms/step - loss: 0.4744 - accuracy: 0.8282 - val_loss: 1.0170 - val_accuracy: 0.6658\n",
            "Epoch 81/120\n",
            "157/157 [==============================] - 15s 98ms/step - loss: 0.4609 - accuracy: 0.8408 - val_loss: 0.9816 - val_accuracy: 0.6819\n",
            "Epoch 82/120\n",
            "157/157 [==============================] - 15s 99ms/step - loss: 0.4376 - accuracy: 0.8436 - val_loss: 0.9331 - val_accuracy: 0.6952\n",
            "Epoch 83/120\n",
            "157/157 [==============================] - 15s 97ms/step - loss: 0.4453 - accuracy: 0.8412 - val_loss: 0.9458 - val_accuracy: 0.6884\n",
            "Epoch 84/120\n",
            "157/157 [==============================] - 15s 98ms/step - loss: 0.4371 - accuracy: 0.8442 - val_loss: 0.9977 - val_accuracy: 0.6735\n",
            "Epoch 85/120\n",
            "157/157 [==============================] - 15s 98ms/step - loss: 0.4366 - accuracy: 0.8462 - val_loss: 0.9425 - val_accuracy: 0.6930\n",
            "Epoch 86/120\n",
            "157/157 [==============================] - 15s 98ms/step - loss: 0.4270 - accuracy: 0.8462 - val_loss: 0.9075 - val_accuracy: 0.6995\n",
            "Epoch 87/120\n",
            "157/157 [==============================] - 15s 98ms/step - loss: 0.4334 - accuracy: 0.8424 - val_loss: 0.9338 - val_accuracy: 0.6995\n",
            "Epoch 88/120\n",
            "157/157 [==============================] - 15s 99ms/step - loss: 0.4328 - accuracy: 0.8466 - val_loss: 0.9755 - val_accuracy: 0.6783\n",
            "Epoch 89/120\n",
            "157/157 [==============================] - 16s 99ms/step - loss: 0.4197 - accuracy: 0.8516 - val_loss: 0.9969 - val_accuracy: 0.6839\n",
            "Epoch 90/120\n",
            "157/157 [==============================] - 15s 98ms/step - loss: 0.4341 - accuracy: 0.8454 - val_loss: 1.0276 - val_accuracy: 0.6771\n",
            "Epoch 91/120\n",
            "157/157 [==============================] - 16s 99ms/step - loss: 0.4164 - accuracy: 0.8520 - val_loss: 0.8702 - val_accuracy: 0.7125\n",
            "Epoch 92/120\n",
            "157/157 [==============================] - 16s 99ms/step - loss: 0.4027 - accuracy: 0.8570 - val_loss: 0.9517 - val_accuracy: 0.7011\n",
            "Epoch 93/120\n",
            "157/157 [==============================] - 15s 99ms/step - loss: 0.3962 - accuracy: 0.8618 - val_loss: 1.0591 - val_accuracy: 0.6727\n"
          ],
          "name": "stdout"
        }
      ]
    },
    {
      "cell_type": "markdown",
      "metadata": {
        "id": "ODW74Syk43os"
      },
      "source": [
        "Accuracy History"
      ]
    },
    {
      "cell_type": "code",
      "metadata": {
        "colab": {
          "base_uri": "https://localhost:8080/",
          "height": 295
        },
        "id": "PgfXkIyl47_F",
        "outputId": "066a6e16-a8bb-4a6f-fde4-f9233a68edba"
      },
      "source": [
        "plt.plot(history.history['accuracy'])\n",
        "plt.plot(history.history['val_accuracy'])\n",
        "plt.title('model accuracy')\n",
        "plt.xlabel('epoch')\n",
        "plt.ylabel('accuracy')\n",
        "plt.legend(['train', 'test'], loc='upper left')\n",
        "plt.show()"
      ],
      "execution_count": 106,
      "outputs": [
        {
          "output_type": "display_data",
          "data": {
            "image/png": "[encoded data removed]",
            "text/plain": [
              "<Figure size 432x288 with 1 Axes>"
            ]
          },
          "metadata": {
            "needs_background": "light"
          }
        }
      ]
    },
    {
      "cell_type": "markdown",
      "metadata": {
        "id": "AQz_b8615VSb"
      },
      "source": [
        "Loss History"
      ]
    },
    {
      "cell_type": "code",
      "metadata": {
        "colab": {
          "base_uri": "https://localhost:8080/",
          "height": 295
        },
        "id": "mrdkWCjF5ZDO",
        "outputId": "601319d6-4d54-4875-df8b-67251abab111"
      },
      "source": [
        "plt.plot(history.history['loss'])\n",
        "plt.plot(history.history['val_loss'])\n",
        "plt.title('model loss')\n",
        "plt.xlabel('epoch')\n",
        "plt.ylabel('loss')\n",
        "plt.legend(['train', 'test'], loc='upper left')\n",
        "plt.show()"
      ],
      "execution_count": 107,
      "outputs": [
        {
          "output_type": "display_data",
          "data": {
            "image/png": "[encoded data removed]",
            "text/plain": [
              "<Figure size 432x288 with 1 Axes>"
            ]
          },
          "metadata": {
            "needs_background": "light"
          }
        }
      ]
    },
    {
      "cell_type": "code",
      "metadata": {
        "colab": {
          "base_uri": "https://localhost:8080/"
        },
        "id": "3R29EO-M9w5Y",
        "outputId": "e36b7b1f-e9b6-41e0-e489-059caa06d6ec"
      },
      "source": [
        "cnn.save('wts.hdf5')"
      ],
      "execution_count": 63,
      "outputs": [
        {
          "output_type": "stream",
          "text": [
            "/usr/local/lib/python3.7/dist-packages/keras/utils/generic_utils.py:497: CustomMaskWarning: Custom mask layers require a config and must override get_config. When loading, the custom mask layer must be passed to the custom_objects argument.\n",
            "  category=CustomMaskWarning)\n"
          ],
          "name": "stderr"
        }
      ]
    }
  ]
}