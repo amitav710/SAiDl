{
  "nbformat": 4,
  "nbformat_minor": 0,
  "metadata": {
    "colab": {
      "name": "supervised.ipynb",
      "provenance": [],
      "collapsed_sections": [],
      "authorship_tag": "ABX9TyNdd/7w6WSerOHGEoRH0Wt/",
      "include_colab_link": true
    },
    "kernelspec": {
      "name": "python3",
      "display_name": "Python 3"
    },
    "language_info": {
      "name": "python"
    },
    "accelerator": "GPU"
  },
  "cells": [
    {
      "cell_type": "markdown",
      "metadata": {
        "id": "view-in-github",
        "colab_type": "text"
      },
      "source": [
        "<a href=\"https://colab.research.google.com/github/amitav710/SAiDl/blob/main/supervised.ipynb\" target=\"_parent\"><img src=\"https://colab.research.google.com/assets/colab-badge.svg\" alt=\"Open In Colab\"/></a>"
      ]
    },
    {
      "cell_type": "markdown",
      "metadata": {
        "id": "z4z2uvPlx3Mo"
      },
      "source": [
        "# Supervised Learning"
      ]
    },
    {
      "cell_type": "markdown",
      "metadata": {
        "id": "w7LNp5qnyBem"
      },
      "source": [
        "Importing the Libraries"
      ]
    },
    {
      "cell_type": "code",
      "metadata": {
        "id": "OfZlciqVxbmK"
      },
      "source": [
        "import matplotlib.pyplot as plt\n",
        "import numpy as np\n",
        "import tensorflow as tf\n",
        "import pandas as pd\n",
        "import os\n",
        "import argparse\n",
        "\n",
        "from keras.preprocessing.image import ImageDataGenerator\n",
        "from keras.callbacks import EarlyStopping, ModelCheckpoint, LearningRateScheduler\n",
        "from tensorflow.keras import regularizers\n",
        "\n",
        "import tensorflow_datasets as tfds\n",
        "from tensorflow.keras.utils import plot_model\n",
        "import math\n",
        "from tensorflow.keras import layers\n",
        "from tensorflow.keras.layers import (\n",
        " Conv2D,\n",
        " BatchNormalization,\n",
        " Dense,\n",
        " MaxPool2D,\n",
        " Flatten,\n",
        " Dropout,\n",
        " Add,\n",
        " ReLU\n",
        ")"
      ],
      "execution_count": 38,
      "outputs": []
    },
    {
      "cell_type": "markdown",
      "metadata": {
        "id": "BYKbCDKLyXMZ"
      },
      "source": [
        "Loading and formatting datasets"
      ]
    },
    {
      "cell_type": "code",
      "metadata": {
        "colab": {
          "base_uri": "https://localhost:8080/",
          "height": 206
        },
        "id": "lpmEIdTLTH4Y",
        "outputId": "556c925f-6cfd-4de9-ff33-08ad3adb63c2"
      },
      "source": [
        "ds_train, info_train = tfds.load('stl10', split='train', with_info=True, shuffle_files=True, as_supervised=True)\n",
        "df_train = tfds.as_dataframe(ds_train.take(5), info_train)\n",
        "df_train.head()"
      ],
      "execution_count": 39,
      "outputs": [
        {
          "output_type": "execute_result",
          "data": {
            "text/html": [
              "<div>\n",
              "<style scoped>\n",
              "    .dataframe tbody tr th:only-of-type {\n",
              "        vertical-align: middle;\n",
              "    }\n",
              "\n",
              "    .dataframe tbody tr th {\n",
              "        vertical-align: top;\n",
              "    }\n",
              "\n",
              "    .dataframe thead th {\n",
              "        text-align: right;\n",
              "    }\n",
              "</style>\n",
              "<table border=\"1\" class=\"dataframe\">\n",
              "  <thead>\n",
              "    <tr style=\"text-align: right;\">\n",
              "      <th></th>\n",
              "      <th>image</th>\n",
              "      <th>label</th>\n",
              "    </tr>\n",
              "  </thead>\n",
              "  <tbody>\n",
              "    <tr>\n",
              "      <th>0</th>\n",
              "      <td>[[[136, 144, 153], [125, 127, 136], [125, 126,...</td>\n",
              "      <td>1</td>\n",
              "    </tr>\n",
              "    <tr>\n",
              "      <th>1</th>\n",
              "      <td>[[[70, 132, 186], [81, 139, 189], [143, 176, 2...</td>\n",
              "      <td>0</td>\n",
              "    </tr>\n",
              "    <tr>\n",
              "      <th>2</th>\n",
              "      <td>[[[0, 0, 0], [0, 0, 0], [0, 0, 0], [0, 0, 0], ...</td>\n",
              "      <td>8</td>\n",
              "    </tr>\n",
              "    <tr>\n",
              "      <th>3</th>\n",
              "      <td>[[[104, 90, 69], [101, 87, 66], [103, 88, 67],...</td>\n",
              "      <td>3</td>\n",
              "    </tr>\n",
              "    <tr>\n",
              "      <th>4</th>\n",
              "      <td>[[[189, 204, 235], [189, 204, 235], [189, 204,...</td>\n",
              "      <td>9</td>\n",
              "    </tr>\n",
              "  </tbody>\n",
              "</table>\n",
              "</div>"
            ],
            "text/plain": [
              "                                               image  label\n",
              "0  [[[136, 144, 153], [125, 127, 136], [125, 126,...      1\n",
              "1  [[[70, 132, 186], [81, 139, 189], [143, 176, 2...      0\n",
              "2  [[[0, 0, 0], [0, 0, 0], [0, 0, 0], [0, 0, 0], ...      8\n",
              "3  [[[104, 90, 69], [101, 87, 66], [103, 88, 67],...      3\n",
              "4  [[[189, 204, 235], [189, 204, 235], [189, 204,...      9"
            ]
          },
          "metadata": {},
          "execution_count": 39
        }
      ]
    },
    {
      "cell_type": "code",
      "metadata": {
        "colab": {
          "base_uri": "https://localhost:8080/",
          "height": 206
        },
        "id": "mQ_tXJzD95W7",
        "outputId": "7787481a-1a87-4685-dae4-2eabbfe35991"
      },
      "source": [
        "ds_test, info_test = tfds.load('stl10', split='test', with_info=True, shuffle_files=True, as_supervised=True)\n",
        "df_test = tfds.as_dataframe(ds_test.take(5), info_test)\n",
        "df_test.head()"
      ],
      "execution_count": 40,
      "outputs": [
        {
          "output_type": "execute_result",
          "data": {
            "text/html": [
              "<div>\n",
              "<style scoped>\n",
              "    .dataframe tbody tr th:only-of-type {\n",
              "        vertical-align: middle;\n",
              "    }\n",
              "\n",
              "    .dataframe tbody tr th {\n",
              "        vertical-align: top;\n",
              "    }\n",
              "\n",
              "    .dataframe thead th {\n",
              "        text-align: right;\n",
              "    }\n",
              "</style>\n",
              "<table border=\"1\" class=\"dataframe\">\n",
              "  <thead>\n",
              "    <tr style=\"text-align: right;\">\n",
              "      <th></th>\n",
              "      <th>image</th>\n",
              "      <th>label</th>\n",
              "    </tr>\n",
              "  </thead>\n",
              "  <tbody>\n",
              "    <tr>\n",
              "      <th>0</th>\n",
              "      <td>[[[213, 214, 220], [219, 219, 225], [220, 221,...</td>\n",
              "      <td>9</td>\n",
              "    </tr>\n",
              "    <tr>\n",
              "      <th>1</th>\n",
              "      <td>[[[31, 36, 32], [37, 42, 42], [60, 63, 60], [5...</td>\n",
              "      <td>3</td>\n",
              "    </tr>\n",
              "    <tr>\n",
              "      <th>2</th>\n",
              "      <td>[[[87, 87, 74], [84, 86, 76], [80, 82, 75], [8...</td>\n",
              "      <td>3</td>\n",
              "    </tr>\n",
              "    <tr>\n",
              "      <th>3</th>\n",
              "      <td>[[[37, 76, 22], [40, 79, 22], [43, 76, 25], [4...</td>\n",
              "      <td>1</td>\n",
              "    </tr>\n",
              "    <tr>\n",
              "      <th>4</th>\n",
              "      <td>[[[0, 0, 0], [0, 0, 0], [0, 0, 0], [0, 0, 0], ...</td>\n",
              "      <td>9</td>\n",
              "    </tr>\n",
              "  </tbody>\n",
              "</table>\n",
              "</div>"
            ],
            "text/plain": [
              "                                               image  label\n",
              "0  [[[213, 214, 220], [219, 219, 225], [220, 221,...      9\n",
              "1  [[[31, 36, 32], [37, 42, 42], [60, 63, 60], [5...      3\n",
              "2  [[[87, 87, 74], [84, 86, 76], [80, 82, 75], [8...      3\n",
              "3  [[[37, 76, 22], [40, 79, 22], [43, 76, 25], [4...      1\n",
              "4  [[[0, 0, 0], [0, 0, 0], [0, 0, 0], [0, 0, 0], ...      9"
            ]
          },
          "metadata": {},
          "execution_count": 40
        }
      ]
    },
    {
      "cell_type": "code",
      "metadata": {
        "colab": {
          "base_uri": "https://localhost:8080/"
        },
        "id": "IPfqZ3GrABsl",
        "outputId": "afc8f6af-0c95-45ce-e196-57870c32c759"
      },
      "source": [
        "x_train=[]\n",
        "y_train=[]\n",
        "for data in ds_train:\n",
        "  x,y = data\n",
        "  x=x.numpy()\n",
        "  y=y.numpy()\n",
        "  x_train.append(x)\n",
        "  y_train.append(y)\n",
        "x_train = np.array(x_train)\n",
        "y_train = np.array(y_train)\n",
        "x_train.shape"
      ],
      "execution_count": 41,
      "outputs": [
        {
          "output_type": "execute_result",
          "data": {
            "text/plain": [
              "(5000, 96, 96, 3)"
            ]
          },
          "metadata": {},
          "execution_count": 41
        }
      ]
    },
    {
      "cell_type": "code",
      "metadata": {
        "colab": {
          "base_uri": "https://localhost:8080/"
        },
        "id": "V6R2oyKjAjz2",
        "outputId": "575652f1-a937-47e7-e0d6-be3c6ffa710b"
      },
      "source": [
        "y_train = pd.get_dummies(y_train)\n",
        "y_train.shape"
      ],
      "execution_count": 42,
      "outputs": [
        {
          "output_type": "execute_result",
          "data": {
            "text/plain": [
              "(5000, 10)"
            ]
          },
          "metadata": {},
          "execution_count": 42
        }
      ]
    },
    {
      "cell_type": "code",
      "metadata": {
        "id": "qnHEcwutAleB"
      },
      "source": [
        "x_test=[]\n",
        "y_test=[]\n",
        "\n",
        "for data in ds_test:\n",
        "  x,y = data\n",
        "  x=x.numpy()\n",
        "  y=y.numpy()\n",
        "  x_test.append(x)\n",
        "  y_test.append(y)\n",
        "\n",
        "x_test = np.array(x_test)\n",
        "y_test = np.array(y_test)\n",
        "\n",
        "y_test = pd.get_dummies(y_test)"
      ],
      "execution_count": 43,
      "outputs": []
    },
    {
      "cell_type": "code",
      "metadata": {
        "colab": {
          "base_uri": "https://localhost:8080/"
        },
        "id": "inw-vTUkAxoy",
        "outputId": "9ed42663-ad23-4040-a6f0-7bb28d32ca5c"
      },
      "source": [
        "x_test.shape"
      ],
      "execution_count": 44,
      "outputs": [
        {
          "output_type": "execute_result",
          "data": {
            "text/plain": [
              "(8000, 96, 96, 3)"
            ]
          },
          "metadata": {},
          "execution_count": 44
        }
      ]
    },
    {
      "cell_type": "code",
      "metadata": {
        "colab": {
          "base_uri": "https://localhost:8080/"
        },
        "id": "fAGaeVbkA1Bn",
        "outputId": "9d39929e-6b43-44ea-d561-a5ac0a62c239"
      },
      "source": [
        "y_test.shape"
      ],
      "execution_count": 45,
      "outputs": [
        {
          "output_type": "execute_result",
          "data": {
            "text/plain": [
              "(8000, 10)"
            ]
          },
          "metadata": {},
          "execution_count": 45
        }
      ]
    },
    {
      "cell_type": "markdown",
      "metadata": {
        "id": "P8yVlTkCzjSg"
      },
      "source": [
        "Image augmentation"
      ]
    },
    {
      "cell_type": "code",
      "metadata": {
        "id": "QTdhX_nd3qR5"
      },
      "source": [
        "train_datagen = ImageDataGenerator(\n",
        "    rescale = 1./255,\n",
        "    rotation_range=15,\n",
        "    width_shift_range=0.15,\n",
        "    height_shift_range=0.15,\n",
        "    shear_range = 0.2,\n",
        "    zoom_range = 0.2,\n",
        "    horizontal_flip = True\n",
        ")"
      ],
      "execution_count": 46,
      "outputs": []
    },
    {
      "cell_type": "code",
      "metadata": {
        "id": "iHpsWQwcBIOh"
      },
      "source": [
        "training_set = train_datagen.flow(\n",
        "    x_train,\n",
        "    y_train,\n",
        "    batch_size=32\n",
        ")"
      ],
      "execution_count": 47,
      "outputs": []
    },
    {
      "cell_type": "code",
      "metadata": {
        "id": "_W686XC-LwS3"
      },
      "source": [
        "test_datagen=ImageDataGenerator(rescale=1./255)\n",
        "test_set=test_datagen.flow(\n",
        "    x_test,\n",
        "    y_test,\n",
        "    batch_size=32\n",
        ")"
      ],
      "execution_count": 48,
      "outputs": []
    },
    {
      "cell_type": "markdown",
      "metadata": {
        "id": "goLBgkFnzsn-"
      },
      "source": [
        "Making the CNN"
      ]
    },
    {
      "cell_type": "code",
      "metadata": {
        "id": "clGH7Y7Q5pzr",
        "colab": {
          "base_uri": "https://localhost:8080/",
          "height": 1000
        },
        "outputId": "607e04ea-29ff-4c04-9d6c-3d0c8ba21bf9"
      },
      "source": [
        "shape=(96,96,3)\n",
        "input=layers.Input(shape)\n",
        "\n",
        "x = (Conv2D(96, (3, 3), strides=1,padding=\"same\"))(input)\n",
        "x = (BatchNormalization(epsilon=1e-5, momentum=0.01))(x)\n",
        "x = (ReLU())(x)\n",
        "x = (MaxPool2D((2, 2), strides=2))(x)\n",
        "\n",
        "x = (Conv2D(96, (3, 3), strides=1,padding=\"same\"))(input)\n",
        "x = (BatchNormalization(epsilon=1e-5, momentum=0.01))(x)\n",
        "x = (ReLU())(x)\n",
        "x = (MaxPool2D((2, 2), strides=2))(x)\n",
        "\n",
        "x = (Conv2D(64, (3, 3), strides=1, activation=\"relu\",bias_regularizer=regularizers.l1(0.00005),padding=\"same\"))(x)\n",
        "x=(Dropout(0.2))(x)\n",
        "x = (BatchNormalization(epsilon=1e-5, momentum=0.01))(x)\n",
        "x = (ReLU())(x)\n",
        "x = (MaxPool2D((2, 2), strides=2))(x)\n",
        "\n",
        "#residual layer\n",
        "x_copy1=x\n",
        "x = (Conv2D(64, (3, 3), strides=1, activation=\"relu\",bias_regularizer=regularizers.l1(0.00005),padding=\"same\"))(x)\n",
        "x = (BatchNormalization(epsilon=1e-5, momentum=0.01))(x)\n",
        "x = (ReLU())(x)\n",
        "x_copy2=x\n",
        "x = Add()([x_copy1,x_copy2])\n",
        "x = (BatchNormalization(epsilon=1e-5, momentum=0.01))(x)\n",
        "x = (ReLU())(x)\n",
        "x = (MaxPool2D((2, 2), strides=2))(x)\n",
        "\n",
        "x = (Conv2D(96, (3, 3), strides=1,padding=\"same\"))(input)\n",
        "x = (BatchNormalization(epsilon=1e-5, momentum=0.01))(x)\n",
        "x = (ReLU())(x)\n",
        "x = (MaxPool2D((2, 2), strides=2))(x)\n",
        "\n",
        "x = (Conv2D(96, (3, 3), strides=1,padding=\"same\"))(input)\n",
        "x = (BatchNormalization(epsilon=1e-5, momentum=0.01))(x)\n",
        "x = (ReLU())(x)\n",
        "x = (MaxPool2D((2, 2), strides=2))(x)\n",
        "\n",
        "x = (Conv2D(64, (3, 3), strides=1, activation=\"relu\",bias_regularizer=regularizers.l1(0.00005),padding=\"same\"))(x)\n",
        "x = (Dropout(0.2))(x)\n",
        "x = (BatchNormalization(epsilon=1e-5, momentum=0.01))(x)\n",
        "x = (ReLU())(x)\n",
        "x = (MaxPool2D((2, 2), strides=2))(x)\n",
        "\n",
        "#residual layer\n",
        "x_copy3=x\n",
        "x = (Conv2D(64, (3, 3), strides=1, activation=\"relu\",bias_regularizer=regularizers.l1(0.00005),padding=\"same\"))(x)\n",
        "x = (BatchNormalization(epsilon=1e-5, momentum=0.01))(x)\n",
        "x = (ReLU())(x)\n",
        "x_copy4=x\n",
        "x = Add()([x_copy3,x_copy4])\n",
        "x = (BatchNormalization(epsilon=1e-5, momentum=0.01))(x)\n",
        "x = (ReLU())(x)\n",
        "x = (MaxPool2D((2, 2), strides=2))(x)\n",
        "\n",
        "x = (Conv2D(64, (3, 3), strides=1, activation=\"relu\",bias_regularizer=regularizers.l1(0.00005),padding=\"same\"))(x)\n",
        "x = (Dropout(0.2))(x)\n",
        "x = (BatchNormalization(epsilon=1e-5, momentum=0.01))(x)\n",
        "x = (ReLU())(x)\n",
        "x = (MaxPool2D((2, 2), strides=2))(x)\n",
        "x = (Flatten())(x)\n",
        "x = (Dense(128, activation = 'relu'))(x)\n",
        "output = (Dense(units=10,activation = 'softmax'))(x)\n",
        "\n",
        "cnn = tf.keras.Model(inputs=input, outputs=output)\n",
        "plot_model(cnn)"
      ],
      "execution_count": 49,
      "outputs": [
        {
          "output_type": "execute_result",
          "data": {
            "image/png": "[encoded data removed]",
            "text/plain": [
              "<IPython.core.display.Image object>"
            ]
          },
          "metadata": {},
          "execution_count": 49
        }
      ]
    },
    {
      "cell_type": "code",
      "metadata": {
        "id": "AdlRhtc_SztI"
      },
      "source": [
        "stop = EarlyStopping(patience=25)"
      ],
      "execution_count": 50,
      "outputs": []
    },
    {
      "cell_type": "code",
      "metadata": {
        "id": "jRVbkme8W5YI",
        "colab": {
          "base_uri": "https://localhost:8080/",
          "height": 53
        },
        "outputId": "a837126a-5855-4410-8354-4cfdfddfbdb0"
      },
      "source": [
        "\"\"\"initial_learning_rate = 0.01\n",
        "decay_steps = 10.0\n",
        "decay_rate = 0.75\n",
        "learning_rate_fn = tf.keras.optimizers.schedules.InverseTimeDecay(\n",
        "  initial_learning_rate, \n",
        "  decay_steps, \n",
        "  decay_rate,\n",
        "  staircase=True\n",
        ")\"\"\""
      ],
      "execution_count": 51,
      "outputs": [
        {
          "output_type": "execute_result",
          "data": {
            "application/vnd.google.colaboratory.intrinsic+json": {
              "type": "string"
            },
            "text/plain": [
              "'initial_learning_rate = 0.01\\ndecay_steps = 10.0\\ndecay_rate = 0.75\\nlearning_rate_fn = tf.keras.optimizers.schedules.InverseTimeDecay(\\n  initial_learning_rate, \\n  decay_steps, \\n  decay_rate,\\n  staircase=True\\n)'"
            ]
          },
          "metadata": {},
          "execution_count": 51
        }
      ]
    },
    {
      "cell_type": "markdown",
      "metadata": {
        "id": "EkbCnK2q3A4k"
      },
      "source": [
        "Training the CNN"
      ]
    },
    {
      "cell_type": "code",
      "metadata": {
        "id": "zpuW6Fij0H84"
      },
      "source": [
        "opt=tf.keras.optimizers.Adam(learning_rate=0.0003)"
      ],
      "execution_count": 52,
      "outputs": []
    },
    {
      "cell_type": "code",
      "metadata": {
        "id": "CkfiGiMCB9Aq"
      },
      "source": [
        "cnn.compile(optimizer=opt, loss='categorical_crossentropy', metrics=['accuracy'])"
      ],
      "execution_count": 53,
      "outputs": []
    },
    {
      "cell_type": "code",
      "metadata": {
        "id": "oAe9xbMZCWVA"
      },
      "source": [
        "model_checkpoint_callback = ModelCheckpoint('wts.hdf5', save_best_only=True, monitor='val_accuracy', mode='max')"
      ],
      "execution_count": 54,
      "outputs": []
    },
    {
      "cell_type": "code",
      "metadata": {
        "colab": {
          "base_uri": "https://localhost:8080/"
        },
        "id": "1eEJCWqK3VTd",
        "outputId": "1b74ff30-a855-4c78-9f2d-01e4d781f412"
      },
      "source": [
        "cnn.summary()"
      ],
      "execution_count": 55,
      "outputs": [
        {
          "output_type": "stream",
          "text": [
            "Model: \"model_1\"\n",
            "__________________________________________________________________________________________________\n",
            "Layer (type)                    Output Shape         Param #     Connected to                     \n",
            "==================================================================================================\n",
            "input_2 (InputLayer)            [(None, 96, 96, 3)]  0                                            \n",
            "__________________________________________________________________________________________________\n",
            "conv2d_14 (Conv2D)              (None, 96, 96, 96)   2688        input_2[0][0]                    \n",
            "__________________________________________________________________________________________________\n",
            "batch_normalization_17 (BatchNo (None, 96, 96, 96)   384         conv2d_14[0][0]                  \n",
            "__________________________________________________________________________________________________\n",
            "re_lu_17 (ReLU)                 (None, 96, 96, 96)   0           batch_normalization_17[0][0]     \n",
            "__________________________________________________________________________________________________\n",
            "max_pooling2d_14 (MaxPooling2D) (None, 48, 48, 96)   0           re_lu_17[0][0]                   \n",
            "__________________________________________________________________________________________________\n",
            "conv2d_15 (Conv2D)              (None, 48, 48, 64)   55360       max_pooling2d_14[0][0]           \n",
            "__________________________________________________________________________________________________\n",
            "dropout_4 (Dropout)             (None, 48, 48, 64)   0           conv2d_15[0][0]                  \n",
            "__________________________________________________________________________________________________\n",
            "batch_normalization_18 (BatchNo (None, 48, 48, 64)   256         dropout_4[0][0]                  \n",
            "__________________________________________________________________________________________________\n",
            "re_lu_18 (ReLU)                 (None, 48, 48, 64)   0           batch_normalization_18[0][0]     \n",
            "__________________________________________________________________________________________________\n",
            "max_pooling2d_15 (MaxPooling2D) (None, 24, 24, 64)   0           re_lu_18[0][0]                   \n",
            "__________________________________________________________________________________________________\n",
            "conv2d_16 (Conv2D)              (None, 24, 24, 64)   36928       max_pooling2d_15[0][0]           \n",
            "__________________________________________________________________________________________________\n",
            "batch_normalization_19 (BatchNo (None, 24, 24, 64)   256         conv2d_16[0][0]                  \n",
            "__________________________________________________________________________________________________\n",
            "re_lu_19 (ReLU)                 (None, 24, 24, 64)   0           batch_normalization_19[0][0]     \n",
            "__________________________________________________________________________________________________\n",
            "add_3 (Add)                     (None, 24, 24, 64)   0           max_pooling2d_15[0][0]           \n",
            "                                                                 re_lu_19[0][0]                   \n",
            "__________________________________________________________________________________________________\n",
            "batch_normalization_20 (BatchNo (None, 24, 24, 64)   256         add_3[0][0]                      \n",
            "__________________________________________________________________________________________________\n",
            "re_lu_20 (ReLU)                 (None, 24, 24, 64)   0           batch_normalization_20[0][0]     \n",
            "__________________________________________________________________________________________________\n",
            "max_pooling2d_16 (MaxPooling2D) (None, 12, 12, 64)   0           re_lu_20[0][0]                   \n",
            "__________________________________________________________________________________________________\n",
            "conv2d_17 (Conv2D)              (None, 12, 12, 64)   36928       max_pooling2d_16[0][0]           \n",
            "__________________________________________________________________________________________________\n",
            "dropout_5 (Dropout)             (None, 12, 12, 64)   0           conv2d_17[0][0]                  \n",
            "__________________________________________________________________________________________________\n",
            "batch_normalization_21 (BatchNo (None, 12, 12, 64)   256         dropout_5[0][0]                  \n",
            "__________________________________________________________________________________________________\n",
            "re_lu_21 (ReLU)                 (None, 12, 12, 64)   0           batch_normalization_21[0][0]     \n",
            "__________________________________________________________________________________________________\n",
            "max_pooling2d_17 (MaxPooling2D) (None, 6, 6, 64)     0           re_lu_21[0][0]                   \n",
            "__________________________________________________________________________________________________\n",
            "flatten_1 (Flatten)             (None, 2304)         0           max_pooling2d_17[0][0]           \n",
            "__________________________________________________________________________________________________\n",
            "dense_2 (Dense)                 (None, 128)          295040      flatten_1[0][0]                  \n",
            "__________________________________________________________________________________________________\n",
            "dense_3 (Dense)                 (None, 10)           1290        dense_2[0][0]                    \n",
            "==================================================================================================\n",
            "Total params: 429,642\n",
            "Trainable params: 428,938\n",
            "Non-trainable params: 704\n",
            "__________________________________________________________________________________________________\n"
          ],
          "name": "stdout"
        }
      ]
    },
    {
      "cell_type": "code",
      "metadata": {
        "id": "5HUBctinDv1a",
        "colab": {
          "base_uri": "https://localhost:8080/"
        },
        "outputId": "e1532ee3-11a0-49e4-e0b8-56a656cf67da"
      },
      "source": [
        "history=cnn.fit(x=training_set, validation_data=test_set, epochs= 120, batch_size=32, callbacks=[stop, model_checkpoint_callback])"
      ],
      "execution_count": 56,
      "outputs": [
        {
          "output_type": "stream",
          "text": [
            "Epoch 1/120\n",
            "157/157 [==============================] - 17s 100ms/step - loss: 2.0131 - accuracy: 0.2840 - val_loss: 1.6926 - val_accuracy: 0.3714\n",
            "Epoch 2/120\n",
            "  1/157 [..............................] - ETA: 15s - loss: 1.5937 - accuracy: 0.4688"
          ],
          "name": "stdout"
        },
        {
          "output_type": "stream",
          "text": [
            "/usr/local/lib/python3.7/dist-packages/keras/utils/generic_utils.py:497: CustomMaskWarning: Custom mask layers require a config and must override get_config. When loading, the custom mask layer must be passed to the custom_objects argument.\n",
            "  category=CustomMaskWarning)\n"
          ],
          "name": "stderr"
        },
        {
          "output_type": "stream",
          "text": [
            "157/157 [==============================] - 16s 99ms/step - loss: 1.6558 - accuracy: 0.3728 - val_loss: 1.4996 - val_accuracy: 0.4609\n",
            "Epoch 3/120\n",
            "157/157 [==============================] - 16s 99ms/step - loss: 1.5253 - accuracy: 0.4310 - val_loss: 1.4007 - val_accuracy: 0.4840\n",
            "Epoch 4/120\n",
            "157/157 [==============================] - 15s 98ms/step - loss: 1.4515 - accuracy: 0.4544 - val_loss: 1.3876 - val_accuracy: 0.4947\n",
            "Epoch 5/120\n",
            "157/157 [==============================] - 16s 99ms/step - loss: 1.3870 - accuracy: 0.4872 - val_loss: 1.2981 - val_accuracy: 0.5354\n",
            "Epoch 6/120\n",
            "157/157 [==============================] - 16s 99ms/step - loss: 1.3380 - accuracy: 0.5064 - val_loss: 1.2940 - val_accuracy: 0.5372\n",
            "Epoch 7/120\n",
            "157/157 [==============================] - 15s 99ms/step - loss: 1.2732 - accuracy: 0.5254 - val_loss: 1.2752 - val_accuracy: 0.5439\n",
            "Epoch 8/120\n",
            "157/157 [==============================] - 15s 98ms/step - loss: 1.2453 - accuracy: 0.5458 - val_loss: 1.2522 - val_accuracy: 0.5393\n",
            "Epoch 9/120\n",
            "157/157 [==============================] - 16s 100ms/step - loss: 1.1855 - accuracy: 0.5692 - val_loss: 1.1616 - val_accuracy: 0.5750\n",
            "Epoch 10/120\n",
            "157/157 [==============================] - 15s 98ms/step - loss: 1.1539 - accuracy: 0.5714 - val_loss: 1.1197 - val_accuracy: 0.5926\n",
            "Epoch 11/120\n",
            "157/157 [==============================] - 15s 99ms/step - loss: 1.1181 - accuracy: 0.5860 - val_loss: 1.1371 - val_accuracy: 0.5939\n",
            "Epoch 12/120\n",
            "157/157 [==============================] - 15s 97ms/step - loss: 1.0745 - accuracy: 0.6066 - val_loss: 1.0986 - val_accuracy: 0.6031\n",
            "Epoch 13/120\n",
            "157/157 [==============================] - 15s 97ms/step - loss: 1.0688 - accuracy: 0.6086 - val_loss: 1.0718 - val_accuracy: 0.6150\n",
            "Epoch 14/120\n",
            "157/157 [==============================] - 15s 98ms/step - loss: 1.0261 - accuracy: 0.6224 - val_loss: 1.0668 - val_accuracy: 0.6116\n",
            "Epoch 15/120\n",
            "157/157 [==============================] - 15s 98ms/step - loss: 1.0195 - accuracy: 0.6246 - val_loss: 1.0328 - val_accuracy: 0.6277\n",
            "Epoch 16/120\n",
            "157/157 [==============================] - 15s 98ms/step - loss: 0.9847 - accuracy: 0.6392 - val_loss: 1.0581 - val_accuracy: 0.6180\n",
            "Epoch 17/120\n",
            "157/157 [==============================] - 16s 99ms/step - loss: 0.9735 - accuracy: 0.6490 - val_loss: 1.0546 - val_accuracy: 0.6217\n",
            "Epoch 18/120\n",
            "157/157 [==============================] - 15s 98ms/step - loss: 0.9546 - accuracy: 0.6622 - val_loss: 1.0041 - val_accuracy: 0.6380\n",
            "Epoch 19/120\n",
            "157/157 [==============================] - 15s 98ms/step - loss: 0.9231 - accuracy: 0.6582 - val_loss: 0.9954 - val_accuracy: 0.6388\n",
            "Epoch 20/120\n",
            "157/157 [==============================] - 16s 99ms/step - loss: 0.9321 - accuracy: 0.6638 - val_loss: 1.0164 - val_accuracy: 0.6310\n",
            "Epoch 21/120\n",
            "157/157 [==============================] - 15s 98ms/step - loss: 0.8827 - accuracy: 0.6822 - val_loss: 0.9898 - val_accuracy: 0.6420\n",
            "Epoch 22/120\n",
            "157/157 [==============================] - 16s 99ms/step - loss: 0.8952 - accuracy: 0.6722 - val_loss: 0.9642 - val_accuracy: 0.6522\n",
            "Epoch 23/120\n",
            "157/157 [==============================] - 15s 98ms/step - loss: 0.8669 - accuracy: 0.6828 - val_loss: 0.9927 - val_accuracy: 0.6541\n",
            "Epoch 24/120\n",
            "157/157 [==============================] - 16s 99ms/step - loss: 0.8463 - accuracy: 0.6898 - val_loss: 1.0102 - val_accuracy: 0.6442\n",
            "Epoch 25/120\n",
            "157/157 [==============================] - 15s 98ms/step - loss: 0.8397 - accuracy: 0.6932 - val_loss: 0.9569 - val_accuracy: 0.6574\n",
            "Epoch 26/120\n",
            "157/157 [==============================] - 15s 98ms/step - loss: 0.8105 - accuracy: 0.7038 - val_loss: 0.9149 - val_accuracy: 0.6749\n",
            "Epoch 27/120\n",
            "157/157 [==============================] - 15s 98ms/step - loss: 0.7863 - accuracy: 0.7150 - val_loss: 0.9563 - val_accuracy: 0.6569\n",
            "Epoch 28/120\n",
            "157/157 [==============================] - 15s 98ms/step - loss: 0.7991 - accuracy: 0.7042 - val_loss: 0.9368 - val_accuracy: 0.6635\n",
            "Epoch 29/120\n",
            "157/157 [==============================] - 16s 100ms/step - loss: 0.7771 - accuracy: 0.7188 - val_loss: 0.9682 - val_accuracy: 0.6509\n",
            "Epoch 30/120\n",
            "157/157 [==============================] - 16s 100ms/step - loss: 0.7632 - accuracy: 0.7250 - val_loss: 0.8974 - val_accuracy: 0.6819\n",
            "Epoch 31/120\n",
            "157/157 [==============================] - 16s 99ms/step - loss: 0.7691 - accuracy: 0.7184 - val_loss: 0.9076 - val_accuracy: 0.6768\n",
            "Epoch 32/120\n",
            "157/157 [==============================] - 15s 98ms/step - loss: 0.7542 - accuracy: 0.7292 - val_loss: 1.0374 - val_accuracy: 0.6399\n",
            "Epoch 33/120\n",
            "157/157 [==============================] - 15s 98ms/step - loss: 0.7126 - accuracy: 0.7442 - val_loss: 0.9652 - val_accuracy: 0.6640\n",
            "Epoch 34/120\n",
            "157/157 [==============================] - 16s 100ms/step - loss: 0.6848 - accuracy: 0.7500 - val_loss: 1.0212 - val_accuracy: 0.6459\n",
            "Epoch 35/120\n",
            "157/157 [==============================] - 15s 98ms/step - loss: 0.7177 - accuracy: 0.7396 - val_loss: 1.0340 - val_accuracy: 0.6547\n",
            "Epoch 36/120\n",
            "157/157 [==============================] - 16s 99ms/step - loss: 0.6855 - accuracy: 0.7592 - val_loss: 0.9695 - val_accuracy: 0.6687\n",
            "Epoch 37/120\n",
            "157/157 [==============================] - 15s 99ms/step - loss: 0.6998 - accuracy: 0.7426 - val_loss: 0.8997 - val_accuracy: 0.6786\n",
            "Epoch 38/120\n",
            "157/157 [==============================] - 16s 99ms/step - loss: 0.6946 - accuracy: 0.7480 - val_loss: 1.0016 - val_accuracy: 0.6528\n",
            "Epoch 39/120\n",
            "157/157 [==============================] - 15s 98ms/step - loss: 0.6525 - accuracy: 0.7602 - val_loss: 0.9280 - val_accuracy: 0.6771\n",
            "Epoch 40/120\n",
            "157/157 [==============================] - 16s 99ms/step - loss: 0.6755 - accuracy: 0.7578 - val_loss: 0.9038 - val_accuracy: 0.6849\n",
            "Epoch 41/120\n",
            "157/157 [==============================] - 16s 100ms/step - loss: 0.6581 - accuracy: 0.7598 - val_loss: 0.9790 - val_accuracy: 0.6615\n",
            "Epoch 42/120\n",
            "157/157 [==============================] - 16s 100ms/step - loss: 0.6329 - accuracy: 0.7690 - val_loss: 1.0088 - val_accuracy: 0.6643\n",
            "Epoch 43/120\n",
            "157/157 [==============================] - 16s 99ms/step - loss: 0.6173 - accuracy: 0.7758 - val_loss: 0.9539 - val_accuracy: 0.6769\n",
            "Epoch 44/120\n",
            "157/157 [==============================] - 16s 99ms/step - loss: 0.6145 - accuracy: 0.7768 - val_loss: 0.8862 - val_accuracy: 0.6964\n",
            "Epoch 45/120\n",
            "157/157 [==============================] - 15s 98ms/step - loss: 0.6114 - accuracy: 0.7818 - val_loss: 0.9332 - val_accuracy: 0.6816\n",
            "Epoch 46/120\n",
            "157/157 [==============================] - 16s 99ms/step - loss: 0.5962 - accuracy: 0.7820 - val_loss: 0.9895 - val_accuracy: 0.6746\n",
            "Epoch 47/120\n",
            "157/157 [==============================] - 16s 99ms/step - loss: 0.5929 - accuracy: 0.7902 - val_loss: 0.9905 - val_accuracy: 0.6691\n",
            "Epoch 48/120\n",
            "157/157 [==============================] - 15s 98ms/step - loss: 0.5735 - accuracy: 0.7964 - val_loss: 0.9071 - val_accuracy: 0.6841\n",
            "Epoch 49/120\n",
            "157/157 [==============================] - 15s 98ms/step - loss: 0.5698 - accuracy: 0.7980 - val_loss: 0.9584 - val_accuracy: 0.6708\n",
            "Epoch 50/120\n",
            "157/157 [==============================] - 16s 99ms/step - loss: 0.5687 - accuracy: 0.7948 - val_loss: 1.0330 - val_accuracy: 0.6622\n",
            "Epoch 51/120\n",
            "157/157 [==============================] - 16s 99ms/step - loss: 0.5479 - accuracy: 0.8058 - val_loss: 0.9465 - val_accuracy: 0.6752\n",
            "Epoch 52/120\n",
            "157/157 [==============================] - 16s 99ms/step - loss: 0.5493 - accuracy: 0.8048 - val_loss: 0.9956 - val_accuracy: 0.6679\n",
            "Epoch 53/120\n",
            "157/157 [==============================] - 15s 99ms/step - loss: 0.5368 - accuracy: 0.8062 - val_loss: 0.9631 - val_accuracy: 0.6823\n",
            "Epoch 54/120\n",
            "157/157 [==============================] - 15s 99ms/step - loss: 0.5320 - accuracy: 0.8094 - val_loss: 0.9269 - val_accuracy: 0.6881\n",
            "Epoch 55/120\n",
            "157/157 [==============================] - 15s 99ms/step - loss: 0.5462 - accuracy: 0.8036 - val_loss: 0.9366 - val_accuracy: 0.6840\n",
            "Epoch 56/120\n",
            "157/157 [==============================] - 16s 99ms/step - loss: 0.5204 - accuracy: 0.8166 - val_loss: 0.9060 - val_accuracy: 0.6931\n",
            "Epoch 57/120\n",
            "157/157 [==============================] - 16s 99ms/step - loss: 0.5247 - accuracy: 0.8194 - val_loss: 0.9976 - val_accuracy: 0.6773\n",
            "Epoch 58/120\n",
            "157/157 [==============================] - 16s 99ms/step - loss: 0.4997 - accuracy: 0.8204 - val_loss: 0.9582 - val_accuracy: 0.6901\n",
            "Epoch 59/120\n",
            "157/157 [==============================] - 16s 100ms/step - loss: 0.5032 - accuracy: 0.8146 - val_loss: 0.9875 - val_accuracy: 0.6824\n",
            "Epoch 60/120\n",
            "157/157 [==============================] - 16s 100ms/step - loss: 0.4915 - accuracy: 0.8194 - val_loss: 0.9688 - val_accuracy: 0.6870\n",
            "Epoch 61/120\n",
            "157/157 [==============================] - 16s 100ms/step - loss: 0.4922 - accuracy: 0.8244 - val_loss: 0.8995 - val_accuracy: 0.6989\n",
            "Epoch 62/120\n",
            "157/157 [==============================] - 16s 100ms/step - loss: 0.4912 - accuracy: 0.8252 - val_loss: 0.9325 - val_accuracy: 0.6930\n",
            "Epoch 63/120\n",
            "157/157 [==============================] - 16s 100ms/step - loss: 0.4675 - accuracy: 0.8354 - val_loss: 0.9629 - val_accuracy: 0.6821\n",
            "Epoch 64/120\n",
            "157/157 [==============================] - 16s 100ms/step - loss: 0.4821 - accuracy: 0.8322 - val_loss: 0.9545 - val_accuracy: 0.6848\n",
            "Epoch 65/120\n",
            "157/157 [==============================] - 16s 99ms/step - loss: 0.4550 - accuracy: 0.8374 - val_loss: 1.0006 - val_accuracy: 0.6745\n",
            "Epoch 66/120\n",
            "157/157 [==============================] - 16s 101ms/step - loss: 0.4733 - accuracy: 0.8306 - val_loss: 1.0208 - val_accuracy: 0.6780\n",
            "Epoch 67/120\n",
            "157/157 [==============================] - 16s 101ms/step - loss: 0.4646 - accuracy: 0.8300 - val_loss: 0.9544 - val_accuracy: 0.6942\n",
            "Epoch 68/120\n",
            "157/157 [==============================] - 16s 101ms/step - loss: 0.4441 - accuracy: 0.8382 - val_loss: 0.9264 - val_accuracy: 0.6921\n",
            "Epoch 69/120\n",
            "157/157 [==============================] - 16s 101ms/step - loss: 0.4564 - accuracy: 0.8380 - val_loss: 0.9858 - val_accuracy: 0.6917\n"
          ],
          "name": "stdout"
        }
      ]
    },
    {
      "cell_type": "code",
      "metadata": {
        "colab": {
          "base_uri": "https://localhost:8080/"
        },
        "id": "5vcl6r0kUxRZ",
        "outputId": "263d923b-645f-473c-9fb9-b4ffa198509e"
      },
      "source": [
        "history=cnn.fit(x=training_set, validation_data=test_set, epochs= 120, batch_size=32, callbacks=[stop, model_checkpoint_callback])"
      ],
      "execution_count": 60,
      "outputs": [
        {
          "output_type": "stream",
          "text": [
            "Epoch 1/120\n",
            "157/157 [==============================] - 16s 99ms/step - loss: 0.4389 - accuracy: 0.8342 - val_loss: 0.9806 - val_accuracy: 0.6862\n",
            "Epoch 2/120\n",
            "157/157 [==============================] - 16s 99ms/step - loss: 0.4537 - accuracy: 0.8350 - val_loss: 0.9722 - val_accuracy: 0.6824\n",
            "Epoch 3/120\n",
            "157/157 [==============================] - 15s 98ms/step - loss: 0.4457 - accuracy: 0.8416 - val_loss: 1.0545 - val_accuracy: 0.6685\n",
            "Epoch 4/120\n",
            "157/157 [==============================] - 16s 99ms/step - loss: 0.4463 - accuracy: 0.8446 - val_loss: 1.0329 - val_accuracy: 0.6766\n",
            "Epoch 5/120\n",
            "157/157 [==============================] - 15s 99ms/step - loss: 0.4273 - accuracy: 0.8450 - val_loss: 0.9334 - val_accuracy: 0.6979\n",
            "Epoch 6/120\n",
            "157/157 [==============================] - 15s 98ms/step - loss: 0.4263 - accuracy: 0.8500 - val_loss: 1.1003 - val_accuracy: 0.6614\n",
            "Epoch 7/120\n",
            "157/157 [==============================] - 15s 99ms/step - loss: 0.4322 - accuracy: 0.8440 - val_loss: 1.0129 - val_accuracy: 0.6805\n",
            "Epoch 8/120\n",
            "157/157 [==============================] - 15s 99ms/step - loss: 0.4382 - accuracy: 0.8474 - val_loss: 0.9583 - val_accuracy: 0.6964\n",
            "Epoch 9/120\n",
            "157/157 [==============================] - 15s 98ms/step - loss: 0.4087 - accuracy: 0.8548 - val_loss: 0.9973 - val_accuracy: 0.6929\n",
            "Epoch 10/120\n",
            "157/157 [==============================] - 16s 99ms/step - loss: 0.3807 - accuracy: 0.8636 - val_loss: 0.9714 - val_accuracy: 0.6966\n",
            "Epoch 11/120\n",
            "157/157 [==============================] - 16s 99ms/step - loss: 0.3983 - accuracy: 0.8584 - val_loss: 1.1011 - val_accuracy: 0.6611\n",
            "Epoch 12/120\n",
            "157/157 [==============================] - 16s 100ms/step - loss: 0.4058 - accuracy: 0.8528 - val_loss: 1.1564 - val_accuracy: 0.6668\n",
            "Epoch 13/120\n",
            "157/157 [==============================] - 16s 99ms/step - loss: 0.3817 - accuracy: 0.8634 - val_loss: 1.0199 - val_accuracy: 0.6854\n",
            "Epoch 14/120\n",
            "157/157 [==============================] - 16s 99ms/step - loss: 0.3812 - accuracy: 0.8652 - val_loss: 0.9718 - val_accuracy: 0.6946\n",
            "Epoch 15/120\n",
            "157/157 [==============================] - 16s 99ms/step - loss: 0.3739 - accuracy: 0.8628 - val_loss: 1.1072 - val_accuracy: 0.6737\n",
            "Epoch 16/120\n",
            "157/157 [==============================] - 16s 99ms/step - loss: 0.3894 - accuracy: 0.8574 - val_loss: 0.9669 - val_accuracy: 0.7053\n",
            "Epoch 17/120\n"
          ],
          "name": "stdout"
        },
        {
          "output_type": "stream",
          "text": [
            "/usr/local/lib/python3.7/dist-packages/keras/utils/generic_utils.py:497: CustomMaskWarning: Custom mask layers require a config and must override get_config. When loading, the custom mask layer must be passed to the custom_objects argument.\n",
            "  category=CustomMaskWarning)\n"
          ],
          "name": "stderr"
        },
        {
          "output_type": "stream",
          "text": [
            "157/157 [==============================] - 16s 99ms/step - loss: 0.3892 - accuracy: 0.8568 - val_loss: 1.1001 - val_accuracy: 0.6766\n",
            "Epoch 18/120\n",
            "157/157 [==============================] - 16s 99ms/step - loss: 0.3829 - accuracy: 0.8626 - val_loss: 1.1058 - val_accuracy: 0.6726\n",
            "Epoch 19/120\n",
            "157/157 [==============================] - 16s 100ms/step - loss: 0.3703 - accuracy: 0.8672 - val_loss: 1.0919 - val_accuracy: 0.6794\n",
            "Epoch 20/120\n",
            "157/157 [==============================] - 15s 98ms/step - loss: 0.3760 - accuracy: 0.8612 - val_loss: 1.0317 - val_accuracy: 0.6895\n",
            "Epoch 21/120\n",
            "157/157 [==============================] - 16s 99ms/step - loss: 0.3645 - accuracy: 0.8696 - val_loss: 1.0809 - val_accuracy: 0.6851\n",
            "Epoch 22/120\n",
            "157/157 [==============================] - 16s 100ms/step - loss: 0.3621 - accuracy: 0.8758 - val_loss: 0.9564 - val_accuracy: 0.7042\n",
            "Epoch 23/120\n",
            "157/157 [==============================] - 16s 99ms/step - loss: 0.3427 - accuracy: 0.8756 - val_loss: 0.9902 - val_accuracy: 0.6971\n",
            "Epoch 24/120\n",
            "157/157 [==============================] - 16s 99ms/step - loss: 0.3612 - accuracy: 0.8698 - val_loss: 0.9490 - val_accuracy: 0.7048\n",
            "Epoch 25/120\n",
            "157/157 [==============================] - 16s 99ms/step - loss: 0.3657 - accuracy: 0.8690 - val_loss: 1.0393 - val_accuracy: 0.6884\n",
            "Epoch 26/120\n",
            "157/157 [==============================] - 16s 100ms/step - loss: 0.3329 - accuracy: 0.8820 - val_loss: 1.0729 - val_accuracy: 0.6835\n",
            "Epoch 27/120\n",
            "157/157 [==============================] - 16s 99ms/step - loss: 0.3607 - accuracy: 0.8712 - val_loss: 1.0942 - val_accuracy: 0.6891\n",
            "Epoch 28/120\n",
            "157/157 [==============================] - 15s 99ms/step - loss: 0.3386 - accuracy: 0.8794 - val_loss: 0.9710 - val_accuracy: 0.7010\n",
            "Epoch 29/120\n",
            "157/157 [==============================] - 16s 99ms/step - loss: 0.3654 - accuracy: 0.8712 - val_loss: 0.9955 - val_accuracy: 0.6935\n",
            "Epoch 30/120\n",
            "157/157 [==============================] - 15s 99ms/step - loss: 0.3407 - accuracy: 0.8738 - val_loss: 0.9996 - val_accuracy: 0.6934\n"
          ],
          "name": "stdout"
        }
      ]
    },
    {
      "cell_type": "markdown",
      "metadata": {
        "id": "ODW74Syk43os"
      },
      "source": [
        "Accuracy History"
      ]
    },
    {
      "cell_type": "code",
      "metadata": {
        "colab": {
          "base_uri": "https://localhost:8080/",
          "height": 295
        },
        "id": "PgfXkIyl47_F",
        "outputId": "dfa8ae49-ff54-449b-9805-44be30d027ad"
      },
      "source": [
        "plt.plot(history.history['accuracy'])\n",
        "plt.plot(history.history['val_accuracy'])\n",
        "plt.title('model accuracy')\n",
        "plt.xlabel('epoch')\n",
        "plt.ylabel('accuracy')\n",
        "plt.legend(['train', 'test'], loc='upper left')\n",
        "plt.show()"
      ],
      "execution_count": 61,
      "outputs": [
        {
          "output_type": "display_data",
          "data": {
            "image/png": "[encoded data removed]",
            "text/plain": [
              "<Figure size 432x288 with 1 Axes>"
            ]
          },
          "metadata": {
            "needs_background": "light"
          }
        }
      ]
    },
    {
      "cell_type": "markdown",
      "metadata": {
        "id": "AQz_b8615VSb"
      },
      "source": [
        "Loss History"
      ]
    },
    {
      "cell_type": "code",
      "metadata": {
        "colab": {
          "base_uri": "https://localhost:8080/",
          "height": 295
        },
        "id": "mrdkWCjF5ZDO",
        "outputId": "a2bb4be9-e6b3-4185-dd89-ee52ff241bcd"
      },
      "source": [
        "plt.plot(history.history['loss'])\n",
        "plt.plot(history.history['val_loss'])\n",
        "plt.title('model loss')\n",
        "plt.xlabel('epoch')\n",
        "plt.ylabel('loss')\n",
        "plt.legend(['train', 'test'], loc='upper left')\n",
        "plt.show()"
      ],
      "execution_count": 62,
      "outputs": [
        {
          "output_type": "display_data",
          "data": {
            "image/png": "[encoded data removed]",
            "text/plain": [
              "<Figure size 432x288 with 1 Axes>"
            ]
          },
          "metadata": {
            "needs_background": "light"
          }
        }
      ]
    },
    {
      "cell_type": "code",
      "metadata": {
        "colab": {
          "base_uri": "https://localhost:8080/"
        },
        "id": "3R29EO-M9w5Y",
        "outputId": "e36b7b1f-e9b6-41e0-e489-059caa06d6ec"
      },
      "source": [
        "cnn.save('wts.hdf5')"
      ],
      "execution_count": 63,
      "outputs": [
        {
          "output_type": "stream",
          "text": [
            "/usr/local/lib/python3.7/dist-packages/keras/utils/generic_utils.py:497: CustomMaskWarning: Custom mask layers require a config and must override get_config. When loading, the custom mask layer must be passed to the custom_objects argument.\n",
            "  category=CustomMaskWarning)\n"
          ],
          "name": "stderr"
        }
      ]
    }
  ]
}