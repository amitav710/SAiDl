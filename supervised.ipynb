{
  "nbformat": 4,
  "nbformat_minor": 0,
  "metadata": {
    "colab": {
      "name": "supervised.ipynb",
      "provenance": [],
      "collapsed_sections": []
    },
    "kernelspec": {
      "name": "python3",
      "display_name": "Python 3"
    },
    "language_info": {
      "name": "python"
    },
    "accelerator": "GPU"
  },
  "cells": [
    {
      "cell_type": "code",
      "metadata": {
        "id": "OfZlciqVxbmK"
      },
      "source": [
        "import matplotlib.pyplot as plt\n",
        "import numpy as np\n",
        "import tensorflow as tf\n",
        "import pandas as pd\n",
        "\n",
        "from keras.preprocessing.image import ImageDataGenerator\n",
        "from keras.callbacks import EarlyStopping, ModelCheckpoint, LearningRateScheduler\n",
        "from tensorflow.keras import regularizers\n",
        "\n",
        "import tensorflow_datasets as tfds\n",
        "from tensorflow.keras.utils import plot_model\n",
        "import math"
      ],
      "execution_count": 89,
      "outputs": []
    },
    {
      "cell_type": "code",
      "metadata": {
        "id": "lpmEIdTLTH4Y"
      },
      "source": [
        "ds_train, info_train = tfds.load('stl10', split='train', with_info=True, shuffle_files=True, as_supervised=True)\n",
        "df_train = tfds.as_dataframe(ds_train.take(5), info_train)\n",
        "df_train.head()"
      ],
      "execution_count": null,
      "outputs": []
    },
    {
      "cell_type": "code",
      "metadata": {
        "colab": {
          "base_uri": "https://localhost:8080/",
          "height": 206
        },
        "id": "mQ_tXJzD95W7",
        "outputId": "2dc33980-8e9d-4bcb-c0e3-d69933dd7202"
      },
      "source": [
        "ds_test, info_test = tfds.load('stl10', split='test', with_info=True, shuffle_files=True, as_supervised=True)\n",
        "df_test = tfds.as_dataframe(ds_test.take(5), info_test)\n",
        "df_test.head()"
      ],
      "execution_count": 4,
      "outputs": [
        {
          "output_type": "execute_result",
          "data": {
            "text/html": [
              "<div>\n",
              "<style scoped>\n",
              "    .dataframe tbody tr th:only-of-type {\n",
              "        vertical-align: middle;\n",
              "    }\n",
              "\n",
              "    .dataframe tbody tr th {\n",
              "        vertical-align: top;\n",
              "    }\n",
              "\n",
              "    .dataframe thead th {\n",
              "        text-align: right;\n",
              "    }\n",
              "</style>\n",
              "<table border=\"1\" class=\"dataframe\">\n",
              "  <thead>\n",
              "    <tr style=\"text-align: right;\">\n",
              "      <th></th>\n",
              "      <th>image</th>\n",
              "      <th>label</th>\n",
              "    </tr>\n",
              "  </thead>\n",
              "  <tbody>\n",
              "    <tr>\n",
              "      <th>0</th>\n",
              "      <td>[[[140, 174, 166], [136, 170, 165], [133, 170,...</td>\n",
              "      <td>6</td>\n",
              "    </tr>\n",
              "    <tr>\n",
              "      <th>1</th>\n",
              "      <td>[[[0, 0, 0], [0, 0, 0], [0, 0, 0], [0, 0, 0], ...</td>\n",
              "      <td>0</td>\n",
              "    </tr>\n",
              "    <tr>\n",
              "      <th>2</th>\n",
              "      <td>[[[0, 0, 0], [0, 0, 0], [0, 0, 0], [0, 0, 0], ...</td>\n",
              "      <td>0</td>\n",
              "    </tr>\n",
              "    <tr>\n",
              "      <th>3</th>\n",
              "      <td>[[[171, 183, 180], [173, 184, 181], [174, 185,...</td>\n",
              "      <td>8</td>\n",
              "    </tr>\n",
              "    <tr>\n",
              "      <th>4</th>\n",
              "      <td>[[[24, 28, 19], [43, 49, 29], [58, 68, 34], [6...</td>\n",
              "      <td>6</td>\n",
              "    </tr>\n",
              "  </tbody>\n",
              "</table>\n",
              "</div>"
            ],
            "text/plain": [
              "                                               image  label\n",
              "0  [[[140, 174, 166], [136, 170, 165], [133, 170,...      6\n",
              "1  [[[0, 0, 0], [0, 0, 0], [0, 0, 0], [0, 0, 0], ...      0\n",
              "2  [[[0, 0, 0], [0, 0, 0], [0, 0, 0], [0, 0, 0], ...      0\n",
              "3  [[[171, 183, 180], [173, 184, 181], [174, 185,...      8\n",
              "4  [[[24, 28, 19], [43, 49, 29], [58, 68, 34], [6...      6"
            ]
          },
          "metadata": {
            "tags": []
          },
          "execution_count": 4
        }
      ]
    },
    {
      "cell_type": "code",
      "metadata": {
        "colab": {
          "base_uri": "https://localhost:8080/"
        },
        "id": "IPfqZ3GrABsl",
        "outputId": "6090240a-7e50-4055-e030-a9df71d57617"
      },
      "source": [
        "x_train=[]\n",
        "y_train=[]\n",
        "for data in ds_train:\n",
        "  x,y = data\n",
        "  x=x.numpy()\n",
        "  y=y.numpy()\n",
        "  x_train.append(x)\n",
        "  y_train.append(y)\n",
        "x_train = np.array(x_train)\n",
        "y_train = np.array(y_train)\n",
        "x_train.shape"
      ],
      "execution_count": 90,
      "outputs": [
        {
          "output_type": "execute_result",
          "data": {
            "text/plain": [
              "(5000, 96, 96, 3)"
            ]
          },
          "metadata": {
            "tags": []
          },
          "execution_count": 90
        }
      ]
    },
    {
      "cell_type": "code",
      "metadata": {
        "colab": {
          "base_uri": "https://localhost:8080/"
        },
        "id": "V6R2oyKjAjz2",
        "outputId": "e7c7b4be-ecc2-46a2-fbff-8e53a358f346"
      },
      "source": [
        "y_train = pd.get_dummies(y_train)\n",
        "y_train.shape"
      ],
      "execution_count": 91,
      "outputs": [
        {
          "output_type": "execute_result",
          "data": {
            "text/plain": [
              "(5000, 10)"
            ]
          },
          "metadata": {
            "tags": []
          },
          "execution_count": 91
        }
      ]
    },
    {
      "cell_type": "code",
      "metadata": {
        "id": "qnHEcwutAleB"
      },
      "source": [
        "x_test=[]\n",
        "y_test=[]\n",
        "\n",
        "for data in ds_test:\n",
        "  x,y = data\n",
        "  x=x.numpy()\n",
        "  y=y.numpy()\n",
        "  x_test.append(x)\n",
        "  y_test.append(y)\n",
        "\n",
        "x_test = np.array(x_test)\n",
        "y_test = np.array(y_test)\n",
        "\n",
        "y_test = pd.get_dummies(y_test)"
      ],
      "execution_count": 92,
      "outputs": []
    },
    {
      "cell_type": "code",
      "metadata": {
        "colab": {
          "base_uri": "https://localhost:8080/"
        },
        "id": "inw-vTUkAxoy",
        "outputId": "53574c3f-558b-4c92-a1df-15dca45eee78"
      },
      "source": [
        "x_test.shape"
      ],
      "execution_count": 93,
      "outputs": [
        {
          "output_type": "execute_result",
          "data": {
            "text/plain": [
              "(8000, 96, 96, 3)"
            ]
          },
          "metadata": {
            "tags": []
          },
          "execution_count": 93
        }
      ]
    },
    {
      "cell_type": "code",
      "metadata": {
        "colab": {
          "base_uri": "https://localhost:8080/"
        },
        "id": "fAGaeVbkA1Bn",
        "outputId": "a9eadc9f-55d8-4327-9321-91f50d6b160f"
      },
      "source": [
        "y_test.shape"
      ],
      "execution_count": 94,
      "outputs": [
        {
          "output_type": "execute_result",
          "data": {
            "text/plain": [
              "(8000, 10)"
            ]
          },
          "metadata": {
            "tags": []
          },
          "execution_count": 94
        }
      ]
    },
    {
      "cell_type": "code",
      "metadata": {
        "id": "QTdhX_nd3qR5"
      },
      "source": [
        "train_datagen = ImageDataGenerator(\n",
        "    rescale = 1./255,\n",
        "    rotation_range=15,\n",
        "    width_shift_range=0.2,\n",
        "    height_shift_range=0.2,\n",
        "    shear_range = 0.2,\n",
        "    zoom_range = 0.2,\n",
        "    horizontal_flip = True\n",
        ")"
      ],
      "execution_count": 95,
      "outputs": []
    },
    {
      "cell_type": "code",
      "metadata": {
        "id": "iHpsWQwcBIOh"
      },
      "source": [
        "training_set = train_datagen.flow(\n",
        "    x_train,\n",
        "    y_train,\n",
        "    batch_size=32\n",
        ")"
      ],
      "execution_count": 96,
      "outputs": []
    },
    {
      "cell_type": "code",
      "metadata": {
        "id": "_W686XC-LwS3"
      },
      "source": [
        "test_datagen=ImageDataGenerator(rescale=1./255)\n",
        "test_set=test_datagen.flow(\n",
        "    x_test,\n",
        "    y_test,\n",
        "    batch_size=32\n",
        ")"
      ],
      "execution_count": 97,
      "outputs": []
    },
    {
      "cell_type": "code",
      "metadata": {
        "id": "clGH7Y7Q5pzr",
        "colab": {
          "base_uri": "https://localhost:8080/",
          "height": 1000
        },
        "outputId": "e01f94c0-f388-4073-b0c8-5ad06533f7ab"
      },
      "source": [
        "cnn=tf.keras.models.Sequential()\n",
        "cnn.add(tf.keras.layers.Conv2D(filters=96,kernel_size=3,activation='relu',input_shape=[96,96,3]))\n",
        "cnn.add(tf.keras.layers.BatchNormalization())\n",
        "cnn.add(tf.keras.layers.MaxPool2D(pool_size=2,strides=2))\n",
        "cnn.add(tf.keras.layers.Conv2D(filters=72,kernel_size=3,activation='relu', bias_regularizer=regularizers.l1(0.00005)))\n",
        "tf.keras.layers.Dropout(rate=0.2)\n",
        "cnn.add(tf.keras.layers.BatchNormalization())\n",
        "cnn.add(tf.keras.layers.MaxPool2D(pool_size=2,strides=2))\n",
        "cnn.add(tf.keras.layers.Conv2D(filters=64,kernel_size=3,activation='relu', bias_regularizer=regularizers.l1(0.00005)))\n",
        "tf.keras.layers.Dropout(rate=0.2)\n",
        "cnn.add(tf.keras.layers.BatchNormalization())\n",
        "cnn.add(tf.keras.layers.MaxPool2D(pool_size=2,strides=2))\n",
        "cnn.add(tf.keras.layers.Conv2D(filters=64,kernel_size=3,activation='relu', bias_regularizer=regularizers.l1(0.00005)))\n",
        "tf.keras.layers.Dropout(rate=0.2)\n",
        "cnn.add(tf.keras.layers.BatchNormalization())\n",
        "cnn.add(tf.keras.layers.MaxPool2D(pool_size=2,strides=2))\n",
        "cnn.add(tf.keras.layers.Flatten())\n",
        "cnn.add(tf.keras.layers.Dense(units=128,activation='relu'))\n",
        "cnn.add(tf.keras.layers.Dense(units=10,activation='softmax'))\n",
        "plot_model(cnn)"
      ],
      "execution_count": 98,
      "outputs": [
        {
          "output_type": "execute_result",
          "data": {
            "image/png": "[encoded data removed]",
            "text/plain": [
              "<IPython.core.display.Image object>"
            ]
          },
          "metadata": {
            "tags": []
          },
          "execution_count": 98
        }
      ]
    },
    {
      "cell_type": "code",
      "metadata": {
        "id": "AdlRhtc_SztI"
      },
      "source": [
        "stop = EarlyStopping(patience=25)"
      ],
      "execution_count": 99,
      "outputs": []
    },
    {
      "cell_type": "code",
      "metadata": {
        "id": "zpuW6Fij0H84"
      },
      "source": [
        "opt=tf.keras.optimizers.Adam(learning_rate=0.00005)"
      ],
      "execution_count": 100,
      "outputs": []
    },
    {
      "cell_type": "code",
      "metadata": {
        "id": "CkfiGiMCB9Aq"
      },
      "source": [
        "cnn.compile(optimizer=opt, loss='categorical_crossentropy', metrics=['accuracy'])"
      ],
      "execution_count": 101,
      "outputs": []
    },
    {
      "cell_type": "code",
      "metadata": {
        "colab": {
          "base_uri": "https://localhost:8080/"
        },
        "id": "5HUBctinDv1a",
        "outputId": "6724663c-95c6-4d67-c55e-10e5c6960c1b"
      },
      "source": [
        "cnn.fit(x=training_set, validation_data=test_set, epochs= 160, batch_size=32, callbacks=[stop])"
      ],
      "execution_count": 102,
      "outputs": [
        {
          "output_type": "stream",
          "text": [
            "Epoch 1/160\n",
            "157/157 [==============================] - 15s 90ms/step - loss: 2.4378 - accuracy: 0.2032 - val_loss: 2.4797 - val_accuracy: 0.1066\n",
            "Epoch 2/160\n",
            "157/157 [==============================] - 14s 88ms/step - loss: 1.9996 - accuracy: 0.2892 - val_loss: 2.3918 - val_accuracy: 0.1851\n",
            "Epoch 3/160\n",
            "157/157 [==============================] - 14s 88ms/step - loss: 1.8290 - accuracy: 0.3298 - val_loss: 2.0317 - val_accuracy: 0.2724\n",
            "Epoch 4/160\n",
            "157/157 [==============================] - 14s 88ms/step - loss: 1.7610 - accuracy: 0.3480 - val_loss: 1.6517 - val_accuracy: 0.3801\n",
            "Epoch 5/160\n",
            "157/157 [==============================] - 14s 89ms/step - loss: 1.6857 - accuracy: 0.3728 - val_loss: 1.5731 - val_accuracy: 0.4140\n",
            "Epoch 6/160\n",
            "157/157 [==============================] - 14s 89ms/step - loss: 1.6447 - accuracy: 0.3846 - val_loss: 1.5417 - val_accuracy: 0.4279\n",
            "Epoch 7/160\n",
            "157/157 [==============================] - 14s 89ms/step - loss: 1.5829 - accuracy: 0.4074 - val_loss: 1.5249 - val_accuracy: 0.4408\n",
            "Epoch 8/160\n",
            "157/157 [==============================] - 14s 88ms/step - loss: 1.5674 - accuracy: 0.4208 - val_loss: 1.4701 - val_accuracy: 0.4485\n",
            "Epoch 9/160\n",
            "157/157 [==============================] - 14s 88ms/step - loss: 1.5335 - accuracy: 0.4284 - val_loss: 1.4437 - val_accuracy: 0.4594\n",
            "Epoch 10/160\n",
            "157/157 [==============================] - 14s 88ms/step - loss: 1.5052 - accuracy: 0.4356 - val_loss: 1.4096 - val_accuracy: 0.4720\n",
            "Epoch 11/160\n",
            "157/157 [==============================] - 14s 89ms/step - loss: 1.4784 - accuracy: 0.4480 - val_loss: 1.4102 - val_accuracy: 0.4805\n",
            "Epoch 12/160\n",
            "157/157 [==============================] - 14s 88ms/step - loss: 1.4521 - accuracy: 0.4582 - val_loss: 1.4246 - val_accuracy: 0.4823\n",
            "Epoch 13/160\n",
            "157/157 [==============================] - 14s 89ms/step - loss: 1.4265 - accuracy: 0.4766 - val_loss: 1.3607 - val_accuracy: 0.4897\n",
            "Epoch 14/160\n",
            "157/157 [==============================] - 14s 88ms/step - loss: 1.4093 - accuracy: 0.4758 - val_loss: 1.3454 - val_accuracy: 0.5045\n",
            "Epoch 15/160\n",
            "157/157 [==============================] - 14s 88ms/step - loss: 1.3969 - accuracy: 0.4772 - val_loss: 1.3388 - val_accuracy: 0.5050\n",
            "Epoch 16/160\n",
            "157/157 [==============================] - 14s 89ms/step - loss: 1.3707 - accuracy: 0.4936 - val_loss: 1.2948 - val_accuracy: 0.5251\n",
            "Epoch 17/160\n",
            "157/157 [==============================] - 14s 89ms/step - loss: 1.3628 - accuracy: 0.4902 - val_loss: 1.2886 - val_accuracy: 0.5311\n",
            "Epoch 18/160\n",
            "157/157 [==============================] - 14s 88ms/step - loss: 1.3380 - accuracy: 0.5070 - val_loss: 1.3452 - val_accuracy: 0.5074\n",
            "Epoch 19/160\n",
            "157/157 [==============================] - 14s 88ms/step - loss: 1.3236 - accuracy: 0.5130 - val_loss: 1.3016 - val_accuracy: 0.5176\n",
            "Epoch 20/160\n",
            "157/157 [==============================] - 14s 89ms/step - loss: 1.2895 - accuracy: 0.5206 - val_loss: 1.2221 - val_accuracy: 0.5481\n",
            "Epoch 21/160\n",
            "157/157 [==============================] - 14s 89ms/step - loss: 1.2966 - accuracy: 0.5190 - val_loss: 1.2422 - val_accuracy: 0.5441\n",
            "Epoch 22/160\n",
            "157/157 [==============================] - 14s 89ms/step - loss: 1.2579 - accuracy: 0.5330 - val_loss: 1.2622 - val_accuracy: 0.5458\n",
            "Epoch 23/160\n",
            "157/157 [==============================] - 14s 89ms/step - loss: 1.2650 - accuracy: 0.5372 - val_loss: 1.2089 - val_accuracy: 0.5611\n",
            "Epoch 24/160\n",
            "157/157 [==============================] - 14s 89ms/step - loss: 1.2077 - accuracy: 0.5480 - val_loss: 1.2257 - val_accuracy: 0.5541\n",
            "Epoch 25/160\n",
            "157/157 [==============================] - 14s 89ms/step - loss: 1.2201 - accuracy: 0.5618 - val_loss: 1.2306 - val_accuracy: 0.5573\n",
            "Epoch 26/160\n",
            "157/157 [==============================] - 14s 88ms/step - loss: 1.2373 - accuracy: 0.5398 - val_loss: 1.2462 - val_accuracy: 0.5472\n",
            "Epoch 27/160\n",
            "157/157 [==============================] - 14s 89ms/step - loss: 1.2194 - accuracy: 0.5524 - val_loss: 1.1796 - val_accuracy: 0.5723\n",
            "Epoch 28/160\n",
            "157/157 [==============================] - 14s 89ms/step - loss: 1.2034 - accuracy: 0.5534 - val_loss: 1.2877 - val_accuracy: 0.5325\n",
            "Epoch 29/160\n",
            "157/157 [==============================] - 14s 88ms/step - loss: 1.1768 - accuracy: 0.5704 - val_loss: 1.1428 - val_accuracy: 0.5943\n",
            "Epoch 30/160\n",
            "157/157 [==============================] - 14s 89ms/step - loss: 1.1753 - accuracy: 0.5666 - val_loss: 1.1717 - val_accuracy: 0.5734\n",
            "Epoch 31/160\n",
            "157/157 [==============================] - 14s 88ms/step - loss: 1.1785 - accuracy: 0.5684 - val_loss: 1.1682 - val_accuracy: 0.5730\n",
            "Epoch 32/160\n",
            "157/157 [==============================] - 14s 89ms/step - loss: 1.1456 - accuracy: 0.5888 - val_loss: 1.1599 - val_accuracy: 0.5788\n",
            "Epoch 33/160\n",
            "157/157 [==============================] - 14s 89ms/step - loss: 1.1413 - accuracy: 0.5850 - val_loss: 1.1302 - val_accuracy: 0.5906\n",
            "Epoch 34/160\n",
            "157/157 [==============================] - 14s 90ms/step - loss: 1.1529 - accuracy: 0.5826 - val_loss: 1.1147 - val_accuracy: 0.6019\n",
            "Epoch 35/160\n",
            "157/157 [==============================] - 14s 89ms/step - loss: 1.1317 - accuracy: 0.5864 - val_loss: 1.1454 - val_accuracy: 0.5834\n",
            "Epoch 36/160\n",
            "157/157 [==============================] - 14s 89ms/step - loss: 1.1317 - accuracy: 0.5854 - val_loss: 1.0796 - val_accuracy: 0.6119\n",
            "Epoch 37/160\n",
            "157/157 [==============================] - 14s 89ms/step - loss: 1.1135 - accuracy: 0.5938 - val_loss: 1.1247 - val_accuracy: 0.5945\n",
            "Epoch 38/160\n",
            "157/157 [==============================] - 14s 89ms/step - loss: 1.1170 - accuracy: 0.5934 - val_loss: 1.0985 - val_accuracy: 0.5978\n",
            "Epoch 39/160\n",
            "157/157 [==============================] - 14s 89ms/step - loss: 1.1068 - accuracy: 0.5946 - val_loss: 1.1623 - val_accuracy: 0.5804\n",
            "Epoch 40/160\n",
            "157/157 [==============================] - 14s 90ms/step - loss: 1.0971 - accuracy: 0.5980 - val_loss: 1.1390 - val_accuracy: 0.5863\n",
            "Epoch 41/160\n",
            "157/157 [==============================] - 14s 88ms/step - loss: 1.0760 - accuracy: 0.6114 - val_loss: 1.1377 - val_accuracy: 0.5953\n",
            "Epoch 42/160\n",
            "157/157 [==============================] - 14s 89ms/step - loss: 1.0653 - accuracy: 0.6138 - val_loss: 1.1006 - val_accuracy: 0.6083\n",
            "Epoch 43/160\n",
            "157/157 [==============================] - 14s 89ms/step - loss: 1.0459 - accuracy: 0.6230 - val_loss: 1.0970 - val_accuracy: 0.6030\n",
            "Epoch 44/160\n",
            "157/157 [==============================] - 14s 89ms/step - loss: 1.0534 - accuracy: 0.6184 - val_loss: 1.1668 - val_accuracy: 0.5800\n",
            "Epoch 45/160\n",
            "157/157 [==============================] - 14s 89ms/step - loss: 1.0646 - accuracy: 0.6104 - val_loss: 1.1465 - val_accuracy: 0.5987\n",
            "Epoch 46/160\n",
            "157/157 [==============================] - 14s 89ms/step - loss: 1.0446 - accuracy: 0.6160 - val_loss: 1.0678 - val_accuracy: 0.6164\n",
            "Epoch 47/160\n",
            "157/157 [==============================] - 14s 88ms/step - loss: 1.0359 - accuracy: 0.6160 - val_loss: 1.0981 - val_accuracy: 0.6071\n",
            "Epoch 48/160\n",
            "157/157 [==============================] - 14s 89ms/step - loss: 1.0427 - accuracy: 0.6142 - val_loss: 1.1179 - val_accuracy: 0.6040\n",
            "Epoch 49/160\n",
            "157/157 [==============================] - 14s 89ms/step - loss: 1.0288 - accuracy: 0.6232 - val_loss: 1.1393 - val_accuracy: 0.5935\n",
            "Epoch 50/160\n",
            "157/157 [==============================] - 14s 89ms/step - loss: 1.0295 - accuracy: 0.6276 - val_loss: 1.0854 - val_accuracy: 0.6120\n",
            "Epoch 51/160\n",
            "157/157 [==============================] - 14s 89ms/step - loss: 1.0203 - accuracy: 0.6296 - val_loss: 1.0446 - val_accuracy: 0.6255\n",
            "Epoch 52/160\n",
            "157/157 [==============================] - 14s 89ms/step - loss: 1.0227 - accuracy: 0.6322 - val_loss: 1.0325 - val_accuracy: 0.6248\n",
            "Epoch 53/160\n",
            "157/157 [==============================] - 14s 89ms/step - loss: 1.0124 - accuracy: 0.6348 - val_loss: 1.1117 - val_accuracy: 0.5990\n",
            "Epoch 54/160\n",
            "157/157 [==============================] - 14s 89ms/step - loss: 0.9926 - accuracy: 0.6346 - val_loss: 1.0330 - val_accuracy: 0.6317\n",
            "Epoch 55/160\n",
            "157/157 [==============================] - 14s 89ms/step - loss: 1.0035 - accuracy: 0.6324 - val_loss: 1.0901 - val_accuracy: 0.6127\n",
            "Epoch 56/160\n",
            "157/157 [==============================] - 14s 89ms/step - loss: 1.0015 - accuracy: 0.6442 - val_loss: 1.0861 - val_accuracy: 0.6160\n",
            "Epoch 57/160\n",
            "157/157 [==============================] - 14s 89ms/step - loss: 0.9960 - accuracy: 0.6426 - val_loss: 1.0184 - val_accuracy: 0.6374\n",
            "Epoch 58/160\n",
            "157/157 [==============================] - 14s 89ms/step - loss: 0.9797 - accuracy: 0.6448 - val_loss: 1.0544 - val_accuracy: 0.6241\n",
            "Epoch 59/160\n",
            "157/157 [==============================] - 14s 89ms/step - loss: 0.9711 - accuracy: 0.6538 - val_loss: 1.0176 - val_accuracy: 0.6340\n",
            "Epoch 60/160\n",
            "157/157 [==============================] - 14s 89ms/step - loss: 0.9743 - accuracy: 0.6528 - val_loss: 1.0311 - val_accuracy: 0.6288\n",
            "Epoch 61/160\n",
            "157/157 [==============================] - 14s 89ms/step - loss: 0.9500 - accuracy: 0.6482 - val_loss: 1.0480 - val_accuracy: 0.6215\n",
            "Epoch 62/160\n",
            "157/157 [==============================] - 14s 89ms/step - loss: 0.9516 - accuracy: 0.6462 - val_loss: 1.0950 - val_accuracy: 0.6146\n",
            "Epoch 63/160\n",
            "157/157 [==============================] - 14s 89ms/step - loss: 0.9417 - accuracy: 0.6564 - val_loss: 1.0941 - val_accuracy: 0.6066\n",
            "Epoch 64/160\n",
            "157/157 [==============================] - 14s 89ms/step - loss: 0.9470 - accuracy: 0.6560 - val_loss: 1.0348 - val_accuracy: 0.6331\n",
            "Epoch 65/160\n",
            "157/157 [==============================] - 14s 89ms/step - loss: 0.9309 - accuracy: 0.6654 - val_loss: 1.0865 - val_accuracy: 0.6220\n",
            "Epoch 66/160\n",
            "157/157 [==============================] - 14s 89ms/step - loss: 0.9396 - accuracy: 0.6562 - val_loss: 1.0534 - val_accuracy: 0.6291\n",
            "Epoch 67/160\n",
            "157/157 [==============================] - 14s 89ms/step - loss: 0.9343 - accuracy: 0.6636 - val_loss: 1.0740 - val_accuracy: 0.6199\n",
            "Epoch 68/160\n",
            "157/157 [==============================] - 14s 90ms/step - loss: 0.9237 - accuracy: 0.6726 - val_loss: 1.0813 - val_accuracy: 0.6245\n",
            "Epoch 69/160\n",
            "157/157 [==============================] - 14s 89ms/step - loss: 0.9261 - accuracy: 0.6656 - val_loss: 1.0129 - val_accuracy: 0.6392\n",
            "Epoch 70/160\n",
            "157/157 [==============================] - 14s 89ms/step - loss: 0.9427 - accuracy: 0.6616 - val_loss: 1.0687 - val_accuracy: 0.6230\n",
            "Epoch 71/160\n",
            "157/157 [==============================] - 14s 89ms/step - loss: 0.9255 - accuracy: 0.6642 - val_loss: 0.9879 - val_accuracy: 0.6530\n",
            "Epoch 72/160\n",
            "157/157 [==============================] - 14s 90ms/step - loss: 0.8993 - accuracy: 0.6746 - val_loss: 0.9786 - val_accuracy: 0.6553\n",
            "Epoch 73/160\n",
            "157/157 [==============================] - 14s 89ms/step - loss: 0.9154 - accuracy: 0.6630 - val_loss: 1.0380 - val_accuracy: 0.6370\n",
            "Epoch 74/160\n",
            "157/157 [==============================] - 14s 90ms/step - loss: 0.8896 - accuracy: 0.6768 - val_loss: 1.1758 - val_accuracy: 0.5911\n",
            "Epoch 75/160\n",
            "157/157 [==============================] - 14s 90ms/step - loss: 0.9192 - accuracy: 0.6706 - val_loss: 1.1617 - val_accuracy: 0.5976\n",
            "Epoch 76/160\n",
            "157/157 [==============================] - 14s 89ms/step - loss: 0.8954 - accuracy: 0.6732 - val_loss: 1.0201 - val_accuracy: 0.6375\n",
            "Epoch 77/160\n",
            "157/157 [==============================] - 14s 90ms/step - loss: 0.8908 - accuracy: 0.6780 - val_loss: 1.0257 - val_accuracy: 0.6442\n",
            "Epoch 78/160\n",
            "157/157 [==============================] - 14s 89ms/step - loss: 0.8785 - accuracy: 0.6772 - val_loss: 1.0653 - val_accuracy: 0.6255\n",
            "Epoch 79/160\n",
            "157/157 [==============================] - 14s 89ms/step - loss: 0.8879 - accuracy: 0.6832 - val_loss: 1.0108 - val_accuracy: 0.6425\n",
            "Epoch 80/160\n",
            "157/157 [==============================] - 14s 90ms/step - loss: 0.8770 - accuracy: 0.6780 - val_loss: 1.0564 - val_accuracy: 0.6251\n",
            "Epoch 81/160\n",
            "157/157 [==============================] - 14s 90ms/step - loss: 0.8749 - accuracy: 0.6856 - val_loss: 0.9648 - val_accuracy: 0.6566\n",
            "Epoch 82/160\n",
            "157/157 [==============================] - 14s 89ms/step - loss: 0.8967 - accuracy: 0.6740 - val_loss: 1.0376 - val_accuracy: 0.6405\n",
            "Epoch 83/160\n",
            "157/157 [==============================] - 14s 89ms/step - loss: 0.8568 - accuracy: 0.6930 - val_loss: 0.9728 - val_accuracy: 0.6526\n",
            "Epoch 84/160\n",
            "157/157 [==============================] - 14s 90ms/step - loss: 0.8573 - accuracy: 0.6888 - val_loss: 1.0015 - val_accuracy: 0.6496\n",
            "Epoch 85/160\n",
            "157/157 [==============================] - 14s 89ms/step - loss: 0.8440 - accuracy: 0.6954 - val_loss: 1.0275 - val_accuracy: 0.6438\n",
            "Epoch 86/160\n",
            "157/157 [==============================] - 14s 90ms/step - loss: 0.8656 - accuracy: 0.6896 - val_loss: 0.9666 - val_accuracy: 0.6626\n",
            "Epoch 87/160\n",
            "157/157 [==============================] - 14s 89ms/step - loss: 0.8411 - accuracy: 0.6968 - val_loss: 1.1410 - val_accuracy: 0.6109\n",
            "Epoch 88/160\n",
            "157/157 [==============================] - 14s 89ms/step - loss: 0.8373 - accuracy: 0.6998 - val_loss: 1.0494 - val_accuracy: 0.6379\n",
            "Epoch 89/160\n",
            "157/157 [==============================] - 14s 90ms/step - loss: 0.8366 - accuracy: 0.7008 - val_loss: 1.1201 - val_accuracy: 0.6186\n",
            "Epoch 90/160\n",
            "157/157 [==============================] - 14s 89ms/step - loss: 0.8554 - accuracy: 0.6906 - val_loss: 1.0222 - val_accuracy: 0.6492\n",
            "Epoch 91/160\n",
            "157/157 [==============================] - 14s 89ms/step - loss: 0.8264 - accuracy: 0.6912 - val_loss: 0.9392 - val_accuracy: 0.6678\n",
            "Epoch 92/160\n",
            "157/157 [==============================] - 14s 90ms/step - loss: 0.8166 - accuracy: 0.6994 - val_loss: 1.0010 - val_accuracy: 0.6507\n",
            "Epoch 93/160\n",
            "157/157 [==============================] - 14s 90ms/step - loss: 0.8308 - accuracy: 0.6988 - val_loss: 0.9803 - val_accuracy: 0.6599\n",
            "Epoch 94/160\n",
            "157/157 [==============================] - 14s 89ms/step - loss: 0.8257 - accuracy: 0.6996 - val_loss: 1.0253 - val_accuracy: 0.6445\n",
            "Epoch 95/160\n",
            "157/157 [==============================] - 14s 89ms/step - loss: 0.8293 - accuracy: 0.6956 - val_loss: 1.0023 - val_accuracy: 0.6471\n",
            "Epoch 96/160\n",
            "157/157 [==============================] - 14s 90ms/step - loss: 0.8257 - accuracy: 0.7014 - val_loss: 1.0213 - val_accuracy: 0.6459\n",
            "Epoch 97/160\n",
            "157/157 [==============================] - 14s 89ms/step - loss: 0.8114 - accuracy: 0.7038 - val_loss: 0.9990 - val_accuracy: 0.6564\n",
            "Epoch 98/160\n",
            "157/157 [==============================] - 14s 89ms/step - loss: 0.8309 - accuracy: 0.7044 - val_loss: 1.0264 - val_accuracy: 0.6524\n",
            "Epoch 99/160\n",
            "157/157 [==============================] - 14s 89ms/step - loss: 0.8107 - accuracy: 0.7074 - val_loss: 1.0088 - val_accuracy: 0.6576\n",
            "Epoch 100/160\n",
            "157/157 [==============================] - 14s 88ms/step - loss: 0.8031 - accuracy: 0.7112 - val_loss: 1.0688 - val_accuracy: 0.6315\n",
            "Epoch 101/160\n",
            "157/157 [==============================] - 14s 89ms/step - loss: 0.8149 - accuracy: 0.7088 - val_loss: 0.9596 - val_accuracy: 0.6630\n",
            "Epoch 102/160\n",
            "157/157 [==============================] - 14s 90ms/step - loss: 0.8075 - accuracy: 0.7072 - val_loss: 1.0429 - val_accuracy: 0.6440\n",
            "Epoch 103/160\n",
            "157/157 [==============================] - 14s 90ms/step - loss: 0.7812 - accuracy: 0.7158 - val_loss: 1.0411 - val_accuracy: 0.6456\n",
            "Epoch 104/160\n",
            "157/157 [==============================] - 14s 89ms/step - loss: 0.8056 - accuracy: 0.7076 - val_loss: 1.0687 - val_accuracy: 0.6336\n",
            "Epoch 105/160\n",
            "157/157 [==============================] - 14s 90ms/step - loss: 0.7940 - accuracy: 0.7160 - val_loss: 1.0322 - val_accuracy: 0.6476\n",
            "Epoch 106/160\n",
            "157/157 [==============================] - 14s 90ms/step - loss: 0.7772 - accuracy: 0.7222 - val_loss: 1.0503 - val_accuracy: 0.6374\n",
            "Epoch 107/160\n",
            "157/157 [==============================] - 14s 90ms/step - loss: 0.7803 - accuracy: 0.7216 - val_loss: 0.9916 - val_accuracy: 0.6535\n",
            "Epoch 108/160\n",
            "157/157 [==============================] - 14s 90ms/step - loss: 0.7870 - accuracy: 0.7166 - val_loss: 1.1342 - val_accuracy: 0.6241\n",
            "Epoch 109/160\n",
            "157/157 [==============================] - 14s 91ms/step - loss: 0.7804 - accuracy: 0.7276 - val_loss: 1.0050 - val_accuracy: 0.6525\n",
            "Epoch 110/160\n",
            "157/157 [==============================] - 14s 90ms/step - loss: 0.7947 - accuracy: 0.7164 - val_loss: 0.9742 - val_accuracy: 0.6621\n",
            "Epoch 111/160\n",
            "157/157 [==============================] - 14s 90ms/step - loss: 0.7623 - accuracy: 0.7214 - val_loss: 1.1013 - val_accuracy: 0.6266\n",
            "Epoch 112/160\n",
            "157/157 [==============================] - 14s 89ms/step - loss: 0.7735 - accuracy: 0.7192 - val_loss: 0.9669 - val_accuracy: 0.6651\n",
            "Epoch 113/160\n",
            "157/157 [==============================] - 14s 89ms/step - loss: 0.7624 - accuracy: 0.7226 - val_loss: 1.0786 - val_accuracy: 0.6329\n",
            "Epoch 114/160\n",
            "157/157 [==============================] - 14s 90ms/step - loss: 0.7559 - accuracy: 0.7292 - val_loss: 1.0980 - val_accuracy: 0.6259\n",
            "Epoch 115/160\n",
            "157/157 [==============================] - 14s 90ms/step - loss: 0.7587 - accuracy: 0.7240 - val_loss: 0.9310 - val_accuracy: 0.6806\n",
            "Epoch 116/160\n",
            "157/157 [==============================] - 14s 90ms/step - loss: 0.7650 - accuracy: 0.7200 - val_loss: 1.0035 - val_accuracy: 0.6610\n",
            "Epoch 117/160\n",
            "157/157 [==============================] - 14s 90ms/step - loss: 0.7713 - accuracy: 0.7152 - val_loss: 0.9892 - val_accuracy: 0.6580\n",
            "Epoch 118/160\n",
            "157/157 [==============================] - 14s 89ms/step - loss: 0.7324 - accuracy: 0.7380 - val_loss: 1.0199 - val_accuracy: 0.6550\n",
            "Epoch 119/160\n",
            "157/157 [==============================] - 14s 90ms/step - loss: 0.7359 - accuracy: 0.7334 - val_loss: 1.0096 - val_accuracy: 0.6544\n",
            "Epoch 120/160\n",
            "157/157 [==============================] - 14s 90ms/step - loss: 0.7201 - accuracy: 0.7436 - val_loss: 1.0581 - val_accuracy: 0.6424\n",
            "Epoch 121/160\n",
            "157/157 [==============================] - 14s 90ms/step - loss: 0.7362 - accuracy: 0.7342 - val_loss: 0.9704 - val_accuracy: 0.6705\n",
            "Epoch 122/160\n",
            "157/157 [==============================] - 14s 90ms/step - loss: 0.7272 - accuracy: 0.7366 - val_loss: 0.9665 - val_accuracy: 0.6665\n",
            "Epoch 123/160\n",
            "157/157 [==============================] - 14s 90ms/step - loss: 0.7421 - accuracy: 0.7292 - val_loss: 0.9410 - val_accuracy: 0.6804\n",
            "Epoch 124/160\n",
            "157/157 [==============================] - 14s 90ms/step - loss: 0.7410 - accuracy: 0.7362 - val_loss: 1.0167 - val_accuracy: 0.6595\n",
            "Epoch 125/160\n",
            "157/157 [==============================] - 14s 90ms/step - loss: 0.7400 - accuracy: 0.7344 - val_loss: 1.0062 - val_accuracy: 0.6590\n",
            "Epoch 126/160\n",
            "157/157 [==============================] - 14s 91ms/step - loss: 0.7211 - accuracy: 0.7304 - val_loss: 0.9966 - val_accuracy: 0.6576\n",
            "Epoch 127/160\n",
            "157/157 [==============================] - 14s 90ms/step - loss: 0.7251 - accuracy: 0.7376 - val_loss: 0.9708 - val_accuracy: 0.6708\n",
            "Epoch 128/160\n",
            "157/157 [==============================] - 14s 89ms/step - loss: 0.7306 - accuracy: 0.7422 - val_loss: 1.0749 - val_accuracy: 0.6411\n",
            "Epoch 129/160\n",
            "157/157 [==============================] - 14s 90ms/step - loss: 0.7310 - accuracy: 0.7378 - val_loss: 1.0018 - val_accuracy: 0.6659\n",
            "Epoch 130/160\n",
            "157/157 [==============================] - 14s 90ms/step - loss: 0.7324 - accuracy: 0.7416 - val_loss: 0.9771 - val_accuracy: 0.6694\n",
            "Epoch 131/160\n",
            "157/157 [==============================] - 14s 90ms/step - loss: 0.7037 - accuracy: 0.7432 - val_loss: 1.0031 - val_accuracy: 0.6615\n",
            "Epoch 132/160\n",
            "157/157 [==============================] - 14s 91ms/step - loss: 0.7257 - accuracy: 0.7374 - val_loss: 1.0963 - val_accuracy: 0.6389\n",
            "Epoch 133/160\n",
            "157/157 [==============================] - 14s 91ms/step - loss: 0.7290 - accuracy: 0.7410 - val_loss: 0.9939 - val_accuracy: 0.6678\n",
            "Epoch 134/160\n",
            "157/157 [==============================] - 14s 90ms/step - loss: 0.7104 - accuracy: 0.7498 - val_loss: 0.9570 - val_accuracy: 0.6715\n",
            "Epoch 135/160\n",
            "157/157 [==============================] - 14s 91ms/step - loss: 0.7179 - accuracy: 0.7348 - val_loss: 0.9898 - val_accuracy: 0.6669\n",
            "Epoch 136/160\n",
            "157/157 [==============================] - 14s 90ms/step - loss: 0.6979 - accuracy: 0.7494 - val_loss: 0.9980 - val_accuracy: 0.6635\n",
            "Epoch 137/160\n",
            "157/157 [==============================] - 14s 90ms/step - loss: 0.6911 - accuracy: 0.7522 - val_loss: 0.9773 - val_accuracy: 0.6701\n",
            "Epoch 138/160\n",
            "157/157 [==============================] - 14s 90ms/step - loss: 0.7059 - accuracy: 0.7486 - val_loss: 0.9647 - val_accuracy: 0.6706\n",
            "Epoch 139/160\n",
            "157/157 [==============================] - 14s 89ms/step - loss: 0.6983 - accuracy: 0.7438 - val_loss: 0.9708 - val_accuracy: 0.6714\n",
            "Epoch 140/160\n",
            "157/157 [==============================] - 14s 90ms/step - loss: 0.7128 - accuracy: 0.7430 - val_loss: 0.9371 - val_accuracy: 0.6837\n"
          ],
          "name": "stdout"
        },
        {
          "output_type": "execute_result",
          "data": {
            "text/plain": [
              "<keras.callbacks.History at 0x7f5e42526e10>"
            ]
          },
          "metadata": {
            "tags": []
          },
          "execution_count": 102
        }
      ]
    }
  ]
}